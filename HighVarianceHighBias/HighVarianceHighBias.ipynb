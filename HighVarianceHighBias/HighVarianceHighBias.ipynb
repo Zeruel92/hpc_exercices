{
 "cells": [
  {
   "cell_type": "markdown",
   "source": [
    "# High Variance vs High Bias"
   ],
   "metadata": {
    "collapsed": false,
    "pycharm": {
     "name": "#%% md\n"
    }
   }
  },
  {
   "cell_type": "code",
   "execution_count": 1,
   "metadata": {
    "collapsed": true,
    "pycharm": {
     "name": "#%%\n"
    }
   },
   "outputs": [],
   "source": [
    "import numpy as np\n",
    "import pandas as pd\n",
    "from matplotlib import pyplot as plt\n",
    "import time\n",
    "from sklearn.datasets import load_boston"
   ]
  },
  {
   "cell_type": "code",
   "execution_count": 2,
   "outputs": [
    {
     "name": "stderr",
     "output_type": "stream",
     "text": [
      "/home/gabry/Dataspell/PolynomialRegression/lib/python3.10/site-packages/sklearn/utils/deprecation.py:87: FutureWarning: Function load_boston is deprecated; `load_boston` is deprecated in 1.0 and will be removed in 1.2.\n",
      "\n",
      "    The Boston housing prices dataset has an ethical problem. You can refer to\n",
      "    the documentation of this function for further details.\n",
      "\n",
      "    The scikit-learn maintainers therefore strongly discourage the use of this\n",
      "    dataset unless the purpose of the code is to study and educate about\n",
      "    ethical issues in data science and machine learning.\n",
      "\n",
      "    In this special case, you can fetch the dataset from the original\n",
      "    source::\n",
      "\n",
      "        import pandas as pd\n",
      "        import numpy as np\n",
      "\n",
      "\n",
      "        data_url = \"http://lib.stat.cmu.edu/datasets/boston\"\n",
      "        raw_df = pd.read_csv(data_url, sep=\"\\s+\", skiprows=22, header=None)\n",
      "        data = np.hstack([raw_df.values[::2, :], raw_df.values[1::2, :2]])\n",
      "        target = raw_df.values[1::2, 2]\n",
      "\n",
      "    Alternative datasets include the California housing dataset (i.e.\n",
      "    :func:`~sklearn.datasets.fetch_california_housing`) and the Ames housing\n",
      "    dataset. You can load the datasets as follows::\n",
      "\n",
      "        from sklearn.datasets import fetch_california_housing\n",
      "        housing = fetch_california_housing()\n",
      "\n",
      "    for the California housing dataset and::\n",
      "\n",
      "        from sklearn.datasets import fetch_openml\n",
      "        housing = fetch_openml(name=\"house_prices\", as_frame=True)\n",
      "\n",
      "    for the Ames housing dataset.\n",
      "    \n",
      "  warnings.warn(msg, category=FutureWarning)\n"
     ]
    }
   ],
   "source": [
    "input_feature = 'RM'\n",
    "target_feature = 'MEDV'\n",
    "boston_dataset = load_boston()\n",
    "boston_df = pd.DataFrame(boston_dataset.data, columns=boston_dataset.feature_names)\n",
    "boston_df[target_feature] = boston_dataset.target"
   ],
   "metadata": {
    "collapsed": false,
    "pycharm": {
     "name": "#%%\n"
    }
   }
  },
  {
   "cell_type": "code",
   "execution_count": 3,
   "outputs": [],
   "source": [
    "boston_df_shuffled = boston_df.sample(frac=1)"
   ],
   "metadata": {
    "collapsed": false,
    "pycharm": {
     "name": "#%%\n"
    }
   }
  },
  {
   "cell_type": "code",
   "execution_count": 4,
   "outputs": [],
   "source": [
    "X = boston_df_shuffled[[input_feature]]\n",
    "y = boston_df_shuffled[[target_feature]]"
   ],
   "metadata": {
    "collapsed": false,
    "pycharm": {
     "name": "#%%\n"
    }
   }
  },
  {
   "cell_type": "code",
   "execution_count": 5,
   "outputs": [],
   "source": [
    "train_X = X.iloc[:int(X.shape[0]*0.6),:]\n",
    "train_y = y.iloc[:int(y.shape[0]*0.6),:]\n",
    "\n",
    "val_X = X.iloc[int(X.shape[0]*0.6):int(X.shape[0]*0.8),:]\n",
    "val_y = y.iloc[int(y.shape[0]*0.6):int(y.shape[0]*0.8),:]\n",
    "\n",
    "test_X = X.iloc[int(X.shape[0]*0.8):,:]\n",
    "test_y = y.iloc[int(y.shape[0]*0.8):,:]"
   ],
   "metadata": {
    "collapsed": false,
    "pycharm": {
     "name": "#%%\n"
    }
   }
  },
  {
   "cell_type": "code",
   "execution_count": 6,
   "outputs": [],
   "source": [
    "def polynomial_features(dataframe, degree):\n",
    "    df = dataframe.copy()\n",
    "    feature_name = dataframe.columns[0]\n",
    "    for i in range(1,degree):\n",
    "        key = \"{}^{}\".format(feature_name,i+1)\n",
    "        df[key] = df[feature_name]**(i+1)\n",
    "    return df"
   ],
   "metadata": {
    "collapsed": false,
    "pycharm": {
     "name": "#%%\n"
    }
   }
  },
  {
   "cell_type": "code",
   "execution_count": 7,
   "outputs": [],
   "source": [
    "def computeCostVectorizedReg(X, y, theta = np.zeros((X.shape[1],1)), l = 0.0):\n",
    "    J = 0\n",
    "    m = X.shape[0]\n",
    "    elapsed_time = -time.time()\n",
    "    J = 1/(2*m) * ((X.dot(theta) - y).T.dot(X.dot(theta) - y) + l*theta[1:].T.dot(theta[1:]))\n",
    "    elapsed_time += time.time()\n",
    "    elapsed_time_ms = np.round(elapsed_time*1000,3)\n",
    "    return J.values,elapsed_time_ms"
   ],
   "metadata": {
    "collapsed": false,
    "pycharm": {
     "name": "#%%\n"
    }
   }
  },
  {
   "cell_type": "code",
   "execution_count": 8,
   "outputs": [],
   "source": [
    "def normalEquationReg(X,y, l =0.0):\n",
    "    Ir = np.identity(X.shape[1])\n",
    "    Ir[0][0] = 0\n",
    "    etime = -time.time()\n",
    "    theta = np.linalg.pinv(X.T.dot(X) + l*Ir).dot(X.T).dot(y)\n",
    "    etime += time.time()\n",
    "    etime = np.round(etime*1000,3)\n",
    "    return theta, etime"
   ],
   "metadata": {
    "collapsed": false,
    "pycharm": {
     "name": "#%%\n"
    }
   }
  },
  {
   "cell_type": "code",
   "execution_count": 9,
   "outputs": [],
   "source": [
    "X_poly_2_train = polynomial_features(train_X,2)\n",
    "X_poly_2_val = polynomial_features(val_X,2)\n",
    "X_poly_2_test = polynomial_features(test_X,2)\n",
    "\n",
    "X_poly_3_train = polynomial_features(train_X,3)\n",
    "X_poly_3_val = polynomial_features(val_X,3)\n",
    "X_poly_3_test = polynomial_features(test_X,3)\n",
    "\n",
    "X_poly_4_train = polynomial_features(train_X,4)\n",
    "X_poly_4_val = polynomial_features(val_X,4)\n",
    "X_poly_4_test = polynomial_features(test_X,4)\n",
    "\n",
    "X_poly_5_train = polynomial_features(train_X,5)\n",
    "X_poly_5_val = polynomial_features(val_X,5)\n",
    "X_poly_5_test = polynomial_features(test_X,5)\n",
    "\n",
    "X_poly_6_train = polynomial_features(train_X,6)\n",
    "X_poly_6_val = polynomial_features(val_X,6)\n",
    "X_poly_6_test = polynomial_features(test_X,6)\n",
    "\n",
    "X_poly_7_train = polynomial_features(train_X,7)\n",
    "X_poly_7_val = polynomial_features(val_X,7)\n",
    "X_poly_7_test = polynomial_features(test_X,7)\n",
    "\n",
    "X_poly_8_train = polynomial_features(train_X,8)\n",
    "X_poly_8_val = polynomial_features(val_X,8)\n",
    "X_poly_8_test = polynomial_features(test_X,8)"
   ],
   "metadata": {
    "collapsed": false,
    "pycharm": {
     "name": "#%%\n"
    }
   }
  },
  {
   "cell_type": "code",
   "execution_count": 10,
   "outputs": [],
   "source": [
    "X_linear_train = np.c_[np.ones((train_X.shape[0],1)), train_X]\n",
    "X_linear_val = np.c_[np.ones((val_X.shape[0],1)), val_X]\n",
    "X_linear_test = np.c_[np.ones((test_X.shape[0],1)), test_X]\n",
    "\n",
    "X_poly_2_int_train = np.c_[np.ones((X_poly_2_train.shape[0],1)),X_poly_2_train]\n",
    "X_poly_2_int_val = np.c_[np.ones((X_poly_2_val.shape[0],1)),X_poly_2_val]\n",
    "X_poly_2_int_test = np.c_[np.ones((X_poly_2_test.shape[0],1)),X_poly_2_test]\n",
    "\n",
    "X_poly_3_int_train = np.c_[np.ones((X_poly_3_train.shape[0],1)),X_poly_3_train]\n",
    "X_poly_3_int_val = np.c_[np.ones((X_poly_3_val.shape[0],1)),X_poly_3_val]\n",
    "X_poly_3_int_test = np.c_[np.ones((X_poly_3_test.shape[0],1)),X_poly_3_test]\n",
    "\n",
    "X_poly_4_int_train = np.c_[np.ones((X_poly_4_train.shape[0],1)),X_poly_4_train]\n",
    "X_poly_4_int_val = np.c_[np.ones((X_poly_4_val.shape[0],1)),X_poly_4_val]\n",
    "X_poly_4_int_test = np.c_[np.ones((X_poly_4_test.shape[0],1)),X_poly_4_test]\n",
    "\n",
    "X_poly_5_int_train = np.c_[np.ones((X_poly_5_train.shape[0],1)),X_poly_5_train]\n",
    "X_poly_5_int_val = np.c_[np.ones((X_poly_5_val.shape[0],1)),X_poly_5_val]\n",
    "X_poly_5_int_test = np.c_[np.ones((X_poly_5_test.shape[0],1)),X_poly_5_test]\n",
    "\n",
    "X_poly_6_int_train = np.c_[np.ones((X_poly_6_train.shape[0],1)),X_poly_6_train]\n",
    "X_poly_6_int_val = np.c_[np.ones((X_poly_6_val.shape[0],1)),X_poly_6_val]\n",
    "X_poly_6_int_test = np.c_[np.ones((X_poly_6_test.shape[0],1)),X_poly_6_test]\n",
    "\n",
    "X_poly_7_int_train = np.c_[np.ones((X_poly_7_train.shape[0],1)),X_poly_7_train]\n",
    "X_poly_7_int_val = np.c_[np.ones((X_poly_7_val.shape[0],1)),X_poly_7_val]\n",
    "X_poly_7_int_test = np.c_[np.ones((X_poly_7_test.shape[0],1)),X_poly_7_test]\n",
    "\n",
    "X_poly_8_int_train = np.c_[np.ones((X_poly_8_train.shape[0],1)),X_poly_8_train]\n",
    "X_poly_8_int_val = np.c_[np.ones((X_poly_8_val.shape[0],1)),X_poly_8_val]\n",
    "X_poly_8_int_test = np.c_[np.ones((X_poly_8_test.shape[0],1)),X_poly_8_test]"
   ],
   "metadata": {
    "collapsed": false,
    "pycharm": {
     "name": "#%%\n"
    }
   }
  },
  {
   "cell_type": "code",
   "execution_count": 11,
   "outputs": [],
   "source": [
    "theta_1,_ = normalEquationReg(X_linear_train,train_y)\n",
    "theta_2,_ = normalEquationReg(X_poly_2_int_train,train_y)\n",
    "theta_3,_ = normalEquationReg(X_poly_3_int_train,train_y)\n",
    "theta_4,_ = normalEquationReg(X_poly_4_int_train,train_y)\n",
    "theta_5,_ = normalEquationReg(X_poly_5_int_train,train_y)\n",
    "theta_6,_ = normalEquationReg(X_poly_6_int_train,train_y)\n",
    "theta_7,_ = normalEquationReg(X_poly_7_int_train,train_y)\n",
    "theta_8,_ = normalEquationReg(X_poly_8_int_train,train_y)"
   ],
   "metadata": {
    "collapsed": false,
    "pycharm": {
     "name": "#%%\n"
    }
   }
  },
  {
   "cell_type": "markdown",
   "source": [
    "## Computer the error on training and validations set"
   ],
   "metadata": {
    "collapsed": false,
    "pycharm": {
     "name": "#%% md\n"
    }
   }
  },
  {
   "cell_type": "code",
   "execution_count": 12,
   "outputs": [],
   "source": [
    "J_train_1,_ = computeCostVectorizedReg(X_linear_train,train_y,theta_1)\n",
    "J_train_2,_ = computeCostVectorizedReg(X_poly_2_int_train,train_y,theta_2)\n",
    "J_train_3,_ = computeCostVectorizedReg(X_poly_3_int_train,train_y,theta_3)\n",
    "J_train_4,_ = computeCostVectorizedReg(X_poly_4_int_train,train_y,theta_4)\n",
    "J_train_5,_ = computeCostVectorizedReg(X_poly_5_int_train,train_y,theta_5)\n",
    "J_train_6,_ = computeCostVectorizedReg(X_poly_6_int_train,train_y,theta_6)\n",
    "J_train_7,_ = computeCostVectorizedReg(X_poly_7_int_train,train_y,theta_7)\n",
    "J_train_8,_ = computeCostVectorizedReg(X_poly_8_int_train,train_y,theta_8)"
   ],
   "metadata": {
    "collapsed": false,
    "pycharm": {
     "name": "#%%\n"
    }
   }
  },
  {
   "cell_type": "code",
   "execution_count": 13,
   "outputs": [],
   "source": [
    "J_train_list = []\n",
    "J_train_list.append(J_train_1.ravel()[0])\n",
    "J_train_list.append(J_train_2.ravel()[0])\n",
    "J_train_list.append(J_train_3.ravel()[0])\n",
    "J_train_list.append(J_train_4.ravel()[0])\n",
    "J_train_list.append(J_train_5.ravel()[0])\n",
    "J_train_list.append(J_train_6.ravel()[0])\n",
    "J_train_list.append(J_train_7.ravel()[0])\n",
    "J_train_list.append(J_train_8.ravel()[0])"
   ],
   "metadata": {
    "collapsed": false,
    "pycharm": {
     "name": "#%%\n"
    }
   }
  },
  {
   "cell_type": "code",
   "execution_count": 14,
   "outputs": [],
   "source": [
    "J_val_1,_ = computeCostVectorizedReg(X_linear_val,val_y,theta_1)\n",
    "J_val_2,_ = computeCostVectorizedReg(X_poly_2_int_val,val_y,theta_2)\n",
    "J_val_3,_ = computeCostVectorizedReg(X_poly_3_int_val,val_y,theta_3)\n",
    "J_val_4,_ = computeCostVectorizedReg(X_poly_4_int_val,val_y,theta_4)\n",
    "J_val_5,_ = computeCostVectorizedReg(X_poly_5_int_val,val_y,theta_5)\n",
    "J_val_6,_ = computeCostVectorizedReg(X_poly_6_int_val,val_y,theta_6)\n",
    "J_val_7,_ = computeCostVectorizedReg(X_poly_7_int_val,val_y,theta_7)\n",
    "J_val_8,_ = computeCostVectorizedReg(X_poly_8_int_val,val_y,theta_8)"
   ],
   "metadata": {
    "collapsed": false,
    "pycharm": {
     "name": "#%%\n"
    }
   }
  },
  {
   "cell_type": "code",
   "execution_count": 15,
   "outputs": [],
   "source": [
    "J_val_list = []\n",
    "J_val_list.append(J_val_1.ravel()[0])\n",
    "J_val_list.append(J_val_2.ravel()[0])\n",
    "J_val_list.append(J_val_3.ravel()[0])\n",
    "J_val_list.append(J_val_4.ravel()[0])\n",
    "J_val_list.append(J_val_5.ravel()[0])\n",
    "J_val_list.append(J_val_6.ravel()[0])\n",
    "J_val_list.append(J_val_7.ravel()[0])\n",
    "J_val_list.append(J_val_8.ravel()[0])"
   ],
   "metadata": {
    "collapsed": false,
    "pycharm": {
     "name": "#%%\n"
    }
   }
  },
  {
   "cell_type": "markdown",
   "source": [
    "## Trade-off between High Bias and High Variance wrt the polynomial degree"
   ],
   "metadata": {
    "collapsed": false,
    "pycharm": {
     "name": "#%% md\n"
    }
   }
  },
  {
   "cell_type": "code",
   "execution_count": 16,
   "outputs": [
    {
     "data": {
      "text/plain": "<Figure size 1080x576 with 1 Axes>",
      "image/png": "[encoded data removed]"
     },
     "metadata": {
      "needs_background": "light"
     },
     "output_type": "display_data"
    }
   ],
   "source": [
    "plt.figure(figsize=(15,8))\n",
    "\n",
    "plt.scatter(np.arange(8)+1,J_train_list)\n",
    "plt.plot(np.arange(8)+1,J_train_list, label='J_train')\n",
    "\n",
    "plt.scatter(np.arange(8)+1,J_val_list,color='r')\n",
    "plt.plot(np.arange(8)+1,J_val_list, label='J_val',color='r')\n",
    "\n",
    "plt.xlabel(\"Polynomial degree\",fontsize=15)\n",
    "plt.ylabel(\"Error\",fontsize=15)\n",
    "plt.legend(fontsize=15)\n",
    "plt.show()"
   ],
   "metadata": {
    "collapsed": false,
    "pycharm": {
     "name": "#%%\n"
    }
   }
  },
  {
   "cell_type": "markdown",
   "source": [
    "## Trade-off between High Bias and High Variance wrt the regularization parameter"
   ],
   "metadata": {
    "collapsed": false,
    "pycharm": {
     "name": "#%% md\n"
    }
   }
  },
  {
   "cell_type": "code",
   "execution_count": 17,
   "outputs": [],
   "source": [
    "d = 6\n",
    "\n",
    "poly_xx_train = polynomial_features(train_X,d)\n",
    "poly_xx_val = polynomial_features(val_X,d)\n",
    "poly_xx_test = polynomial_features(test_X,d)\n",
    "\n",
    "poly_xx_train_int = np.c_[np.ones((poly_xx_train.shape[0],1)),poly_xx_train]\n",
    "poly_xx_val_int = np.c_[np.ones((poly_xx_val.shape[0],1)),poly_xx_val]\n",
    "poly_xx_test_int = np.c_[np.ones((poly_xx_test.shape[0],1)),poly_xx_test]"
   ],
   "metadata": {
    "collapsed": false,
    "pycharm": {
     "name": "#%%\n"
    }
   }
  },
  {
   "cell_type": "code",
   "execution_count": 18,
   "outputs": [],
   "source": [
    "lambda_values = [10,100,1000,10000,100000,1000000,10000000,100000000,1000000000,10000000000,100000000000]"
   ],
   "metadata": {
    "collapsed": false,
    "pycharm": {
     "name": "#%%\n"
    }
   }
  },
  {
   "cell_type": "code",
   "execution_count": 19,
   "outputs": [],
   "source": [
    "J_train_xx = []\n",
    "J_val_xx = []\n",
    "\n",
    "for l in lambda_values:\n",
    "    theta_xx,_ = normalEquationReg(poly_xx_train_int,train_y,l)\n",
    "    J_t_xx,_ = computeCostVectorizedReg(poly_xx_train_int,train_y,theta_xx)\n",
    "    J_v_xx,_ = computeCostVectorizedReg(poly_xx_val_int,val_y,theta_xx)\n",
    "    J_train_xx.append(J_t_xx.ravel()[0])\n",
    "    J_val_xx.append(J_v_xx.ravel()[0])\n"
   ],
   "metadata": {
    "collapsed": false,
    "pycharm": {
     "name": "#%%\n"
    }
   }
  },
  {
   "cell_type": "code",
   "execution_count": 20,
   "outputs": [
    {
     "data": {
      "text/plain": "<Figure size 1080x576 with 1 Axes>",
      "image/png": "[encoded data removed]"
     },
     "metadata": {
      "needs_background": "light"
     },
     "output_type": "display_data"
    }
   ],
   "source": [
    "plt.figure(figsize=(15,8))\n",
    "\n",
    "plt.scatter(lambda_values,J_train_xx)\n",
    "plt.plot(lambda_values,J_train_xx, label='J_train_xx')\n",
    "\n",
    "plt.scatter(lambda_values,J_val_xx,color='r')\n",
    "plt.plot(lambda_values, J_val_xx, label='J_val_xx', color='r')\n",
    "\n",
    "plt.xlabel(r\"$\\lambda$\",fontsize=15)\n",
    "plt.ylabel(\"Error\",fontsize=15)\n",
    "\n",
    "plt.xscale('log')\n",
    "plt.legend(fontsize=15)\n",
    "plt.show()"
   ],
   "metadata": {
    "collapsed": false,
    "pycharm": {
     "name": "#%%\n"
    }
   }
  },
  {
   "cell_type": "markdown",
   "source": [
    "## Learning Curves"
   ],
   "metadata": {
    "collapsed": false,
    "pycharm": {
     "name": "#%% md\n"
    }
   }
  },
  {
   "cell_type": "code",
   "execution_count": 66,
   "outputs": [],
   "source": [
    "poly_3_train_X_lc = polynomial_features(train_X,degree=3)\n",
    "poly_3_val_X_lc = polynomial_features(val_X,degree=3)\n",
    "poly_3_train_X_int_lc = np.c_[np.ones((poly_3_train_X_lc.shape[0],1)),poly_3_train_X_lc]\n",
    "poly_3_val_X_int_lc = np.c_[np.ones((poly_3_val_X_lc.shape[0],1)),poly_3_val_X_lc]"
   ],
   "metadata": {
    "collapsed": false,
    "pycharm": {
     "name": "#%%\n"
    }
   }
  },
  {
   "cell_type": "code",
   "execution_count": 67,
   "outputs": [],
   "source": [
    "n_iter = 45\n",
    "delta = int(np.ceil(train_X.shape[0] / n_iter))\n",
    "\n",
    "J_train_lc_list = []\n",
    "J_val_lc_list =  []\n",
    "training_set_size_list = []\n",
    "for i in range(1,n_iter):\n",
    "    theta_lc, _ = normalEquationReg(poly_3_train_X_int_lc[:delta*i],train_y[:delta*i])\n",
    "    J_t_lc,_ = computeCostVectorizedReg(poly_3_train_X_int_lc[:delta*i],train_y[:delta*i],theta_lc)\n",
    "    J_train_lc_list.append(J_t_lc[0][0])\n",
    "    J_v_lc,_ = computeCostVectorizedReg(poly_3_val_X_int_lc,val_y,theta_lc)\n",
    "    J_val_lc_list.append(J_v_lc[0][0])\n",
    "    training_set_size_list.append(delta*i)"
   ],
   "metadata": {
    "collapsed": false,
    "pycharm": {
     "name": "#%%\n"
    }
   }
  },
  {
   "cell_type": "code",
   "execution_count": 68,
   "outputs": [
    {
     "data": {
      "text/plain": "<Figure size 1080x576 with 1 Axes>",
      "image/png": "[encoded data removed]"
     },
     "metadata": {
      "needs_background": "light"
     },
     "output_type": "display_data"
    }
   ],
   "source": [
    "plt.figure(figsize=(15,8))\n",
    "plt.scatter(training_set_size_list,J_train_lc_list)\n",
    "plt.plot(training_set_size_list,J_train_lc_list, label='J_train')\n",
    "plt.scatter(training_set_size_list,J_val_lc_list, c='r')\n",
    "plt.plot(training_set_size_list,J_val_lc_list, label='J_val', c='r')\n",
    "plt.yscale('log')\n",
    "plt.legend()\n",
    "plt.show()"
   ],
   "metadata": {
    "collapsed": false,
    "pycharm": {
     "name": "#%%\n"
    }
   }
  }
 ],
 "metadata": {
  "kernelspec": {
   "display_name": "Python 3",
   "language": "python",
   "name": "python3"
  },
  "language_info": {
   "codemirror_mode": {
    "name": "ipython",
    "version": 2
   },
   "file_extension": ".py",
   "mimetype": "text/x-python",
   "name": "python",
   "nbconvert_exporter": "python",
   "pygments_lexer": "ipython2",
   "version": "2.7.6"
  }
 },
 "nbformat": 4,
 "nbformat_minor": 0
}