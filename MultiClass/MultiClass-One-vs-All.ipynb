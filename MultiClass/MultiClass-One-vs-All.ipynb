{
 "cells": [
  {
   "cell_type": "markdown",
   "source": [
    "# MultiClass Classification (One vs All)"
   ],
   "metadata": {
    "collapsed": false,
    "pycharm": {
     "name": "#%% md\n"
    }
   }
  },
  {
   "cell_type": "code",
   "execution_count": 1,
   "outputs": [],
   "source": [
    "import pandas as pd\n",
    "import numpy as np\n",
    "from matplotlib import pyplot as plt\n",
    "from sklearn import datasets\n",
    "from scipy.optimize import minimize"
   ],
   "metadata": {
    "collapsed": false,
    "pycharm": {
     "name": "#%%\n"
    }
   }
  },
  {
   "cell_type": "code",
   "execution_count": 2,
   "outputs": [],
   "source": [
    "iris_dataset = datasets.load_iris()"
   ],
   "metadata": {
    "collapsed": false,
    "pycharm": {
     "name": "#%%\n"
    }
   }
  },
  {
   "cell_type": "code",
   "execution_count": 3,
   "outputs": [
    {
     "data": {
      "text/plain": "(150, 4)"
     },
     "execution_count": 3,
     "metadata": {},
     "output_type": "execute_result"
    }
   ],
   "source": [
    "feature_names = iris_dataset.feature_names\n",
    "iris_data = iris_dataset.data\n",
    "iris_data.shape"
   ],
   "metadata": {
    "collapsed": false,
    "pycharm": {
     "name": "#%%\n"
    }
   }
  },
  {
   "cell_type": "code",
   "execution_count": 4,
   "outputs": [],
   "source": [
    "y = iris_dataset.target"
   ],
   "metadata": {
    "collapsed": false,
    "pycharm": {
     "name": "#%%\n"
    }
   }
  },
  {
   "cell_type": "code",
   "execution_count": 5,
   "outputs": [
    {
     "data": {
      "text/plain": "     Intercept  sepal length (cm)  sepal width (cm)  petal length (cm)  \\\n0          1.0                5.1               3.5                1.4   \n1          1.0                4.9               3.0                1.4   \n2          1.0                4.7               3.2                1.3   \n3          1.0                4.6               3.1                1.5   \n4          1.0                5.0               3.6                1.4   \n..         ...                ...               ...                ...   \n145        1.0                6.7               3.0                5.2   \n146        1.0                6.3               2.5                5.0   \n147        1.0                6.5               3.0                5.2   \n148        1.0                6.2               3.4                5.4   \n149        1.0                5.9               3.0                5.1   \n\n     petal width (cm)  label  \n0                 0.2      0  \n1                 0.2      0  \n2                 0.2      0  \n3                 0.2      0  \n4                 0.2      0  \n..                ...    ...  \n145               2.3      2  \n146               1.9      2  \n147               2.0      2  \n148               2.3      2  \n149               1.8      2  \n\n[150 rows x 6 columns]",
      "text/html": "<div>\n<style scoped>\n    .dataframe tbody tr th:only-of-type {\n        vertical-align: middle;\n    }\n\n    .dataframe tbody tr th {\n        vertical-align: top;\n    }\n\n    .dataframe thead th {\n        text-align: right;\n    }\n</style>\n<table border=\"1\" class=\"dataframe\">\n  <thead>\n    <tr style=\"text-align: right;\">\n      <th></th>\n      <th>Intercept</th>\n      <th>sepal length (cm)</th>\n      <th>sepal width (cm)</th>\n      <th>petal length (cm)</th>\n      <th>petal width (cm)</th>\n      <th>label</th>\n    </tr>\n  </thead>\n  <tbody>\n    <tr>\n      <th>0</th>\n      <td>1.0</td>\n      <td>5.1</td>\n      <td>3.5</td>\n      <td>1.4</td>\n      <td>0.2</td>\n      <td>0</td>\n    </tr>\n    <tr>\n      <th>1</th>\n      <td>1.0</td>\n      <td>4.9</td>\n      <td>3.0</td>\n      <td>1.4</td>\n      <td>0.2</td>\n      <td>0</td>\n    </tr>\n    <tr>\n      <th>2</th>\n      <td>1.0</td>\n      <td>4.7</td>\n      <td>3.2</td>\n      <td>1.3</td>\n      <td>0.2</td>\n      <td>0</td>\n    </tr>\n    <tr>\n      <th>3</th>\n      <td>1.0</td>\n      <td>4.6</td>\n      <td>3.1</td>\n      <td>1.5</td>\n      <td>0.2</td>\n      <td>0</td>\n    </tr>\n    <tr>\n      <th>4</th>\n      <td>1.0</td>\n      <td>5.0</td>\n      <td>3.6</td>\n      <td>1.4</td>\n      <td>0.2</td>\n      <td>0</td>\n    </tr>\n    <tr>\n      <th>...</th>\n      <td>...</td>\n      <td>...</td>\n      <td>...</td>\n      <td>...</td>\n      <td>...</td>\n      <td>...</td>\n    </tr>\n    <tr>\n      <th>145</th>\n      <td>1.0</td>\n      <td>6.7</td>\n      <td>3.0</td>\n      <td>5.2</td>\n      <td>2.3</td>\n      <td>2</td>\n    </tr>\n    <tr>\n      <th>146</th>\n      <td>1.0</td>\n      <td>6.3</td>\n      <td>2.5</td>\n      <td>5.0</td>\n      <td>1.9</td>\n      <td>2</td>\n    </tr>\n    <tr>\n      <th>147</th>\n      <td>1.0</td>\n      <td>6.5</td>\n      <td>3.0</td>\n      <td>5.2</td>\n      <td>2.0</td>\n      <td>2</td>\n    </tr>\n    <tr>\n      <th>148</th>\n      <td>1.0</td>\n      <td>6.2</td>\n      <td>3.4</td>\n      <td>5.4</td>\n      <td>2.3</td>\n      <td>2</td>\n    </tr>\n    <tr>\n      <th>149</th>\n      <td>1.0</td>\n      <td>5.9</td>\n      <td>3.0</td>\n      <td>5.1</td>\n      <td>1.8</td>\n      <td>2</td>\n    </tr>\n  </tbody>\n</table>\n<p>150 rows × 6 columns</p>\n</div>"
     },
     "execution_count": 5,
     "metadata": {},
     "output_type": "execute_result"
    }
   ],
   "source": [
    "iris_df = pd.DataFrame(iris_data,columns=feature_names)\n",
    "iris_df.insert(0,'Intercept',np.ones((iris_data.shape[0],1)))\n",
    "iris_df.insert(5,'label',y)\n",
    "iris_df"
   ],
   "metadata": {
    "collapsed": false,
    "pycharm": {
     "name": "#%%\n"
    }
   }
  },
  {
   "cell_type": "code",
   "execution_count": 6,
   "outputs": [],
   "source": [
    "class0 = iris_df[iris_df['label'] == 0]\n",
    "class1 = iris_df[iris_df['label'] == 1]\n",
    "class2 = iris_df[iris_df['label'] == 2]"
   ],
   "metadata": {
    "collapsed": false,
    "pycharm": {
     "name": "#%%\n"
    }
   }
  },
  {
   "cell_type": "markdown",
   "source": [
    "## First Classifier (Label 0) Training set setup\n",
    "In this case label 0 is our label 1 and all the others are 0"
   ],
   "metadata": {
    "collapsed": false,
    "pycharm": {
     "name": "#%% md\n"
    }
   }
  },
  {
   "cell_type": "code",
   "execution_count": 7,
   "outputs": [],
   "source": [
    "classifier_1_pos = class0.copy()\n",
    "classifier_1_neg = pd.concat([class1.copy(),class2.copy()])\n",
    "classifier_1_pos['label'] = 1\n",
    "classifier_1_neg['label'] = 0"
   ],
   "metadata": {
    "collapsed": false,
    "pycharm": {
     "name": "#%%\n"
    }
   }
  },
  {
   "cell_type": "code",
   "execution_count": 8,
   "outputs": [],
   "source": [
    "classifier_1 = pd.concat([classifier_1_pos.copy(),classifier_1_neg.copy()])\n",
    "X1 = classifier_1.iloc[:,0:5]\n",
    "y1 = classifier_1.iloc[:,[-1]]"
   ],
   "metadata": {
    "collapsed": false,
    "pycharm": {
     "name": "#%%\n"
    }
   }
  },
  {
   "cell_type": "markdown",
   "source": [
    "## Second Classifier (Label 1)"
   ],
   "metadata": {
    "collapsed": false,
    "pycharm": {
     "name": "#%% md\n"
    }
   }
  },
  {
   "cell_type": "code",
   "execution_count": 9,
   "outputs": [],
   "source": [
    "classifier_2_pos = class1.copy()\n",
    "classifier_2_neg = pd.concat([class0.copy(),class2.copy()])\n",
    "classifier_2_pos['label'] = 1\n",
    "classifier_2_neg['label'] = 0"
   ],
   "metadata": {
    "collapsed": false,
    "pycharm": {
     "name": "#%%\n"
    }
   }
  },
  {
   "cell_type": "code",
   "execution_count": 10,
   "outputs": [],
   "source": [
    "classifier_2 = pd.concat([classifier_2_pos.copy(),classifier_2_neg.copy()])\n",
    "X2 = classifier_2.iloc[:,0:5]\n",
    "y2 = classifier_2.iloc[:,[-1]]"
   ],
   "metadata": {
    "collapsed": false,
    "pycharm": {
     "name": "#%%\n"
    }
   }
  },
  {
   "cell_type": "markdown",
   "source": [
    "## Third Classifier (Label 2)"
   ],
   "metadata": {
    "collapsed": false,
    "pycharm": {
     "name": "#%% md\n"
    }
   }
  },
  {
   "cell_type": "code",
   "execution_count": 11,
   "outputs": [],
   "source": [
    "classifier_3_pos = class2.copy()\n",
    "classifier_3_neg = pd.concat([class0.copy(),class1.copy()])\n",
    "classifier_3_pos['label'] = 1\n",
    "classifier_3_neg['label'] = 0"
   ],
   "metadata": {
    "collapsed": false,
    "pycharm": {
     "name": "#%%\n"
    }
   }
  },
  {
   "cell_type": "code",
   "execution_count": 12,
   "outputs": [],
   "source": [
    "classifier_3 = pd.concat([classifier_3_pos.copy(),classifier_3_neg.copy()])\n",
    "X3 = classifier_3.iloc[:,0:5]\n",
    "y3 = classifier_3.iloc[:,[-1]]"
   ],
   "metadata": {
    "collapsed": false,
    "pycharm": {
     "name": "#%%\n"
    }
   }
  },
  {
   "cell_type": "markdown",
   "source": [],
   "metadata": {
    "collapsed": false,
    "pycharm": {
     "name": "#%% md\n"
    }
   }
  },
  {
   "cell_type": "markdown",
   "source": [
    "## Train each classifier"
   ],
   "metadata": {
    "collapsed": false,
    "pycharm": {
     "name": "#%% md\n"
    }
   }
  },
  {
   "cell_type": "code",
   "execution_count": 13,
   "outputs": [],
   "source": [
    "def sigmoid(z):\n",
    "    return 1 / (1 + np.exp(-z))"
   ],
   "metadata": {
    "collapsed": false,
    "pycharm": {
     "name": "#%%\n"
    }
   }
  },
  {
   "cell_type": "code",
   "execution_count": 14,
   "outputs": [],
   "source": [
    "def computeCost(theta, X, y):\n",
    "    m = X.shape[0]\n",
    "    J = -( 1 / m)* (np.log(sigmoid(X.dot(theta))).T.dot(y) + np.log(1 - sigmoid(X.dot(theta))).T.dot(1-y))\n",
    "    if np.isnan(J[0]):\n",
    "        return (np.inf)\n",
    "    return (J[0])"
   ],
   "metadata": {
    "collapsed": false,
    "pycharm": {
     "name": "#%%\n"
    }
   }
  },
  {
   "cell_type": "code",
   "execution_count": 15,
   "outputs": [],
   "source": [
    "def gradient(theta, X, y):\n",
    "    m = X.shape[0]\n",
    "    h = sigmoid(X.dot(theta.reshape(-1,1)))\n",
    "    grad = (1/m)*X.T.dot(h-y)\n",
    "    return (grad.flatten())"
   ],
   "metadata": {
    "collapsed": false,
    "pycharm": {
     "name": "#%%\n"
    }
   }
  },
  {
   "cell_type": "code",
   "execution_count": 16,
   "outputs": [
    {
     "name": "stderr",
     "output_type": "stream",
     "text": [
      "/tmp/ipykernel_17293/1976904243.py:3: RuntimeWarning: divide by zero encountered in log\n",
      "  J = -( 1 / m)* (np.log(sigmoid(X.dot(theta))).T.dot(y) + np.log(1 - sigmoid(X.dot(theta))).T.dot(1-y))\n",
      "/tmp/ipykernel_17293/1976904243.py:3: RuntimeWarning: divide by zero encountered in log\n",
      "  J = -( 1 / m)* (np.log(sigmoid(X.dot(theta))).T.dot(y) + np.log(1 - sigmoid(X.dot(theta))).T.dot(1-y))\n"
     ]
    }
   ],
   "source": [
    "init_theta_1 = np.ones((X1.shape[1],1))\n",
    "init_theta_2 = np.ones((X2.shape[1],1))\n",
    "init_theta_3 = np.ones((X3.shape[1],1))\n",
    "res1 = minimize(computeCost, init_theta_1, args=(X1.values,y1.values), method='BFGS', jac = gradient)\n",
    "res2 = minimize(computeCost, init_theta_2, args=(X2.values,y2.values), method='BFGS', jac = gradient)\n",
    "res3 = minimize(computeCost, init_theta_3, args=(X3.values,y3.values), method='BFGS', jac = gradient)"
   ],
   "metadata": {
    "collapsed": false,
    "pycharm": {
     "name": "#%%\n"
    }
   }
  },
  {
   "cell_type": "code",
   "execution_count": 17,
   "outputs": [
    {
     "data": {
      "text/plain": "      fun: 1.1063252044130728e-06\n hess_inv: array([[   8821.49546148,   15782.95454105,   46808.20738216,\n         -73246.3772274 ,  -33955.97029504],\n       [  15782.95454105,   28242.02515602,   83756.38936435,\n        -131064.03544936,  -60759.37928356],\n       [  46808.20738216,   83756.38936435,  248400.6175782 ,\n        -388700.21667084, -180195.86378764],\n       [ -73246.3772274 , -131064.03544936, -388700.21667084,\n         608245.20697274,  281973.37932311],\n       [ -33955.97029504,  -60759.37928356, -180195.86378764,\n         281973.37932311,  130719.85167792]])\n      jac: array([1.09923153e-06, 5.62957163e-06, 2.75519164e-06, 3.33063818e-06,\n       1.21097831e-06])\n  message: 'Optimization terminated successfully.'\n     nfev: 30\n      nit: 23\n     njev: 30\n   status: 0\n  success: True\n        x: array([  2.36156891,   2.42989004,   8.66939009, -13.08394436,\n        -5.39542972])"
     },
     "execution_count": 17,
     "metadata": {},
     "output_type": "execute_result"
    }
   ],
   "source": [
    "res1"
   ],
   "metadata": {
    "collapsed": false,
    "pycharm": {
     "name": "#%%\n"
    }
   }
  },
  {
   "cell_type": "code",
   "execution_count": 18,
   "outputs": [
    {
     "data": {
      "text/plain": "      fun: 0.4835655860655008\n hess_inv: array([[ 870.75909928,  -88.11756592, -147.39875001,   17.00602157,\n          12.98988679],\n       [ -88.11756592,   47.7576004 ,  -28.17249033,  -43.14275087,\n          48.80835376],\n       [-147.39875001,  -28.17249033,   77.1980145 ,   35.86635546,\n         -44.50637673],\n       [  17.00602157,  -43.14275087,   35.86635546,   64.87582062,\n        -100.26786384],\n       [  12.98988679,   48.80835376,  -44.50637673, -100.26786384,\n         182.06156134]])\n      jac: array([-8.18778158e-07,  2.18629258e-07, -6.82454901e-06, -4.71462488e-06,\n       -6.37703298e-06])\n  message: 'Optimization terminated successfully.'\n     nfev: 50\n      nit: 39\n     njev: 47\n   status: 0\n  success: True\n        x: array([ 7.37849013, -0.24501945, -2.7970663 ,  1.31369875, -2.77893921])"
     },
     "execution_count": 18,
     "metadata": {},
     "output_type": "execute_result"
    }
   ],
   "source": [
    "res2"
   ],
   "metadata": {
    "collapsed": false,
    "pycharm": {
     "name": "#%%\n"
    }
   }
  },
  {
   "cell_type": "code",
   "execution_count": 19,
   "outputs": [
    {
     "data": {
      "text/plain": "      fun: 0.03966182272737892\n hess_inv: array([[ 81742.74622233,  -1024.72226508,   5250.12650943,\n        -11607.2032205 , -19876.53117502],\n       [ -1024.72226508,    866.62764232,   -243.05669437,\n          -851.16391475,    344.37282808],\n       [  5250.12650943,   -243.05669437,   2654.75012465,\n          -891.22230267,  -4129.85522449],\n       [-11607.2032205 ,   -851.16391475,   -891.22230267,\n          3147.68088985,   2325.93875543],\n       [-19876.53117503,    344.37282808,  -4129.85522449,\n          2325.93875543,  10793.44960349]])\n      jac: array([9.45444470e-07, 5.81661068e-06, 2.64041361e-06, 4.64622000e-06,\n       1.49216293e-06])\n  message: 'Optimization terminated successfully.'\n     nfev: 72\n      nit: 68\n     njev: 72\n   status: 0\n  success: True\n        x: array([-42.63536818,  -2.46523482,  -6.68048267,   9.4291056 ,\n        18.2849256 ])"
     },
     "execution_count": 19,
     "metadata": {},
     "output_type": "execute_result"
    }
   ],
   "source": [
    "res3"
   ],
   "metadata": {
    "collapsed": false,
    "pycharm": {
     "name": "#%%\n"
    }
   }
  },
  {
   "cell_type": "code",
   "execution_count": 20,
   "outputs": [],
   "source": [
    "theta_1_opt = res1.x.reshape(-1,1)\n",
    "theta_2_opt = res2.x.reshape(-1,1)\n",
    "theta_3_opt = res3.x.reshape(-1,1)"
   ],
   "metadata": {
    "collapsed": false,
    "pycharm": {
     "name": "#%%\n"
    }
   }
  },
  {
   "cell_type": "markdown",
   "source": [
    "## Inference on unseen data"
   ],
   "metadata": {
    "collapsed": false,
    "pycharm": {
     "name": "#%% md\n"
    }
   }
  },
  {
   "cell_type": "code",
   "execution_count": 21,
   "outputs": [],
   "source": [
    "unseen_example = np.array([1, 4.8, 3.3, 1.3, 0.3]).reshape(1,-1)"
   ],
   "metadata": {
    "collapsed": false,
    "pycharm": {
     "name": "#%%\n"
    }
   }
  },
  {
   "cell_type": "code",
   "execution_count": 22,
   "outputs": [],
   "source": [
    "out_1 = np.round(sigmoid(unseen_example.dot(theta_1_opt)),4)\n",
    "out_2 = np.round(sigmoid(unseen_example.dot(theta_2_opt)),4)\n",
    "out_3 = np.round(sigmoid(unseen_example.dot(theta_3_opt)),4)"
   ],
   "metadata": {
    "collapsed": false,
    "pycharm": {
     "name": "#%%\n"
    }
   }
  },
  {
   "cell_type": "code",
   "execution_count": 23,
   "outputs": [
    {
     "name": "stdout",
     "output_type": "stream",
     "text": [
      "Ci sono 100.0% di probabilità che il campione appartenga alla classe 0\n",
      "Ci sono 10.4% di probabilità che il campione appartenga alla classe 1\n",
      "Ci sono 0.0% di probabilità che il campione appartenga alla classe 2\n"
     ]
    }
   ],
   "source": [
    "print('Ci sono {}% di probabilità che il campione appartenga alla classe 0'.format(out_1.ravel()[0]*100))\n",
    "print('Ci sono {}% di probabilità che il campione appartenga alla classe 1'.format(out_2.ravel()[0]*100))\n",
    "print('Ci sono {}% di probabilità che il campione appartenga alla classe 2'.format(out_3.ravel()[0]*100))"
   ],
   "metadata": {
    "collapsed": false,
    "pycharm": {
     "name": "#%%\n"
    }
   }
  }
 ],
 "metadata": {
  "kernelspec": {
   "display_name": "Python 3",
   "language": "python",
   "name": "python3"
  },
  "language_info": {
   "codemirror_mode": {
    "name": "ipython",
    "version": 2
   },
   "file_extension": ".py",
   "mimetype": "text/x-python",
   "name": "python",
   "nbconvert_exporter": "python",
   "pygments_lexer": "ipython2",
   "version": "2.7.6"
  }
 },
 "nbformat": 4,
 "nbformat_minor": 0
}