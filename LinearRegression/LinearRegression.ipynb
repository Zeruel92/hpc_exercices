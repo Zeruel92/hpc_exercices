{
 "cells": [
  {
   "cell_type": "markdown",
   "source": [
    "# Univariate Linear Regression"
   ],
   "metadata": {
    "collapsed": false
   }
  },
  {
   "cell_type": "code",
   "execution_count": 1,
   "outputs": [],
   "source": [
    "import numpy as np\n",
    "import pandas as pd\n",
    "from matplotlib import pyplot as plt\n",
    "import time\n",
    "from sys import stdout"
   ],
   "metadata": {
    "collapsed": false,
    "pycharm": {
     "name": "#%%\n"
    }
   }
  },
  {
   "cell_type": "markdown",
   "source": [
    "## Read the dataset"
   ],
   "metadata": {
    "collapsed": false,
    "pycharm": {
     "name": "#%% md\n"
    }
   }
  },
  {
   "cell_type": "code",
   "execution_count": 2,
   "outputs": [
    {
     "data": {
      "text/plain": "    Population of City (in 10K)  Profit (in 10K $)\n0                        6.1101           17.59200\n1                        5.5277            9.13020\n2                        8.5186           13.66200\n3                        7.0032           11.85400\n4                        5.8598            6.82330\n..                          ...                ...\n92                       5.8707            7.20290\n93                       5.3054            1.98690\n94                       8.2934            0.14454\n95                      13.3940            9.05510\n96                       5.4369            0.61705\n\n[97 rows x 2 columns]",
      "text/html": "<div>\n<style scoped>\n    .dataframe tbody tr th:only-of-type {\n        vertical-align: middle;\n    }\n\n    .dataframe tbody tr th {\n        vertical-align: top;\n    }\n\n    .dataframe thead th {\n        text-align: right;\n    }\n</style>\n<table border=\"1\" class=\"dataframe\">\n  <thead>\n    <tr style=\"text-align: right;\">\n      <th></th>\n      <th>Population of City (in 10K)</th>\n      <th>Profit (in 10K $)</th>\n    </tr>\n  </thead>\n  <tbody>\n    <tr>\n      <th>0</th>\n      <td>6.1101</td>\n      <td>17.59200</td>\n    </tr>\n    <tr>\n      <th>1</th>\n      <td>5.5277</td>\n      <td>9.13020</td>\n    </tr>\n    <tr>\n      <th>2</th>\n      <td>8.5186</td>\n      <td>13.66200</td>\n    </tr>\n    <tr>\n      <th>3</th>\n      <td>7.0032</td>\n      <td>11.85400</td>\n    </tr>\n    <tr>\n      <th>4</th>\n      <td>5.8598</td>\n      <td>6.82330</td>\n    </tr>\n    <tr>\n      <th>...</th>\n      <td>...</td>\n      <td>...</td>\n    </tr>\n    <tr>\n      <th>92</th>\n      <td>5.8707</td>\n      <td>7.20290</td>\n    </tr>\n    <tr>\n      <th>93</th>\n      <td>5.3054</td>\n      <td>1.98690</td>\n    </tr>\n    <tr>\n      <th>94</th>\n      <td>8.2934</td>\n      <td>0.14454</td>\n    </tr>\n    <tr>\n      <th>95</th>\n      <td>13.3940</td>\n      <td>9.05510</td>\n    </tr>\n    <tr>\n      <th>96</th>\n      <td>5.4369</td>\n      <td>0.61705</td>\n    </tr>\n  </tbody>\n</table>\n<p>97 rows × 2 columns</p>\n</div>"
     },
     "execution_count": 2,
     "metadata": {},
     "output_type": "execute_result"
    }
   ],
   "source": [
    "data = pd.read_csv(\"./ex1data1.txt\", delimiter=',', header=0)\n",
    "data"
   ],
   "metadata": {
    "collapsed": false,
    "pycharm": {
     "name": "#%%\n"
    }
   }
  },
  {
   "cell_type": "code",
   "execution_count": 3,
   "outputs": [],
   "source": [
    "X = data[\"Population of City (in 10K)\"].values\n",
    "y = data[\"Profit (in 10K $)\"].values"
   ],
   "metadata": {
    "collapsed": false,
    "pycharm": {
     "name": "#%%\n"
    }
   }
  },
  {
   "cell_type": "code",
   "execution_count": 4,
   "outputs": [
    {
     "name": "stdout",
     "output_type": "stream",
     "text": [
      "(97,)\n",
      "(97,)\n"
     ]
    }
   ],
   "source": [
    "print(X.shape)\n",
    "print(y.shape)"
   ],
   "metadata": {
    "collapsed": false,
    "pycharm": {
     "name": "#%%\n"
    }
   }
  },
  {
   "cell_type": "code",
   "execution_count": 5,
   "outputs": [
    {
     "name": "stdout",
     "output_type": "stream",
     "text": [
      "(97, 1)\n",
      "(97, 1)\n"
     ]
    }
   ],
   "source": [
    "X = X.reshape(-1,1)\n",
    "y = y.reshape(-1,1)\n",
    "print(X.shape)\n",
    "print(y.shape)"
   ],
   "metadata": {
    "collapsed": false,
    "pycharm": {
     "name": "#%%\n"
    }
   }
  },
  {
   "cell_type": "markdown",
   "source": [
    "## Scatter Plot data"
   ],
   "metadata": {
    "collapsed": false,
    "pycharm": {
     "name": "#%% md\n"
    }
   }
  },
  {
   "cell_type": "code",
   "execution_count": 6,
   "outputs": [
    {
     "data": {
      "text/plain": "<Figure size 864x360 with 1 Axes>",
      "image/png": "[encoded data removed]"
     },
     "metadata": {
      "needs_background": "light"
     },
     "output_type": "display_data"
    }
   ],
   "source": [
    "plt.figure(figsize=(12,5)) #figsize=(cols,rows)\n",
    "plt.scatter(X,y,marker='x', color= 'r', label = \"Training Examples\")\n",
    "plt.xlabel(\"Population of City (in 10K)\")\n",
    "plt.ylabel(\"Profit (in 10K $)\")\n",
    "plt.grid()\n",
    "plt.legend()\n",
    "plt.show()"
   ],
   "metadata": {
    "collapsed": false,
    "pycharm": {
     "name": "#%%\n"
    }
   }
  },
  {
   "cell_type": "markdown",
   "source": [
    "## Hypothesis function"
   ],
   "metadata": {
    "collapsed": false,
    "pycharm": {
     "name": "#%% md\n"
    }
   }
  },
  {
   "cell_type": "markdown",
   "source": [
    "$$\\large h_{\\theta}(x^{(i)}) = \\theta_0 + \\theta_1 x^{(i)}$$\n",
    "where $x^{(i)}$ represents the i-th training example\n",
    "\n",
    "$$\\large h_{\\theta}(X) = X\\theta$$\n",
    "$$ X : m \\times n$$\n",
    "$$ \\theta : n \\times 1$$\n",
    "$$ h_{\\theta}(X) : m \\times 1$$\n",
    "\n",
    "where $X$ is called **Design Matrix**"
   ],
   "metadata": {
    "collapsed": false,
    "pycharm": {
     "name": "#%% md\n"
    }
   }
  },
  {
   "cell_type": "markdown",
   "source": [
    "$$ X = \\begin{bmatrix}\n",
    " 1 & x_{1}^{(0)} \\\\\n",
    "  1 & x_{1}^{(1)} \\\\\n",
    "  \\vdots & \\vdots \\\\\n",
    "  1 & x_{1}^{(m-1)}\n",
    " \\end{bmatrix}$$\n",
    "\n",
    "$$\\theta =  \\begin{bmatrix}\n",
    "\\theta_0 \\\\\n",
    "\\theta_1\n",
    "\\end{bmatrix}$$"
   ],
   "metadata": {
    "collapsed": false,
    "pycharm": {
     "name": "#%% md\n"
    }
   }
  },
  {
   "cell_type": "markdown",
   "source": [
    "## Cost Function"
   ],
   "metadata": {
    "collapsed": false,
    "pycharm": {
     "name": "#%% md\n"
    }
   }
  },
  {
   "cell_type": "markdown",
   "source": [
    "### Non Vectorized Cost Function\n",
    "$$J(\\theta_0, \\theta_1) = \\frac{1}{2m} \\sum_{i=0}^{m-1}(h_{\\theta}(x^{(i)}) - y^{(i)})^2 $$\n",
    "### Vectorized Cost Function\n",
    "$$J(\\theta) = \\frac{1}{2m} (X\\theta -y)^T(X\\theta -y)$$"
   ],
   "metadata": {
    "collapsed": false,
    "pycharm": {
     "name": "#%% md\n"
    }
   }
  },
  {
   "cell_type": "markdown",
   "source": [
    "## Add the intercept term"
   ],
   "metadata": {
    "collapsed": false,
    "pycharm": {
     "name": "#%% md\n"
    }
   }
  },
  {
   "cell_type": "code",
   "execution_count": 7,
   "outputs": [],
   "source": [
    "X = np.c_[np.ones(X.shape[0]),X]"
   ],
   "metadata": {
    "collapsed": false,
    "pycharm": {
     "name": "#%%\n"
    }
   }
  },
  {
   "cell_type": "markdown",
   "source": [
    "## Cost Function Implementation"
   ],
   "metadata": {
    "collapsed": false,
    "pycharm": {
     "name": "#%% md\n"
    }
   }
  },
  {
   "cell_type": "code",
   "execution_count": 8,
   "outputs": [],
   "source": [
    "def computeCostLoopBase(X, y, theta = np.zeros((X.shape[1],1))):\n",
    "    m = X.shape[0]\n",
    "    J = 0\n",
    "\n",
    "    elapsed_time = -time.time()\n",
    "\n",
    "    for i in range(m):\n",
    "        h = 0\n",
    "        for k in range(X.shape[1]):\n",
    "            h += (theta[k]*X[i][k])\n",
    "        J += ( h - y[i]) ** 2 # individual loss of i-th element\n",
    "\n",
    "    J /= 2*m\n",
    "\n",
    "    elapsed_time += time.time()\n",
    "    elapsed_time_ms = np.round(elapsed_time*1000,3)\n",
    "\n",
    "    return J, elapsed_time_ms"
   ],
   "metadata": {
    "collapsed": false,
    "pycharm": {
     "name": "#%%\n"
    }
   }
  },
  {
   "cell_type": "code",
   "execution_count": 9,
   "outputs": [
    {
     "name": "stdout",
     "output_type": "stream",
     "text": [
      "[32.07273388]\n",
      "0.844\n"
     ]
    }
   ],
   "source": [
    "J_lb,etime_lb = computeCostLoopBase(X,y)\n",
    "print(J_lb)\n",
    "print(etime_lb)"
   ],
   "metadata": {
    "collapsed": false,
    "pycharm": {
     "name": "#%%\n"
    }
   }
  },
  {
   "cell_type": "code",
   "execution_count": 10,
   "outputs": [],
   "source": [
    "def computeCostVectorized(X, y, theta = np.zeros((X.shape[1],1))):\n",
    "    J = 0\n",
    "    m = X.shape[0]\n",
    "    elapsed_time = -time.time()\n",
    "    J = 1/(2*m) * ((X.dot(theta) - y).T.dot(X.dot(theta) - y))\n",
    "    elapsed_time += time.time()\n",
    "    elapsed_time_ms = np.round(elapsed_time*1000,3)\n",
    "    return J,elapsed_time_ms"
   ],
   "metadata": {
    "collapsed": false,
    "pycharm": {
     "name": "#%%\n"
    }
   }
  },
  {
   "cell_type": "code",
   "execution_count": 11,
   "outputs": [
    {
     "name": "stdout",
     "output_type": "stream",
     "text": [
      "[[32.07273388]]\n",
      "0.056\n"
     ]
    }
   ],
   "source": [
    "J_v, etime_v = computeCostVectorized(X,y)\n",
    "print(J_v)\n",
    "print(etime_v)"
   ],
   "metadata": {
    "collapsed": false,
    "pycharm": {
     "name": "#%%\n"
    }
   }
  },
  {
   "cell_type": "code",
   "execution_count": 12,
   "outputs": [],
   "source": [
    "def computeCostNumpy(X, y, theta = np.zeros((X.shape[1],1))):\n",
    "    J = 0\n",
    "    m = X.shape[0]\n",
    "    elapsed_time = -time.time()\n",
    "\n",
    "    h = X.dot(theta)\n",
    "    J = np.sum(np.square(h-y))/(2*m)\n",
    "\n",
    "    elapsed_time += time.time()\n",
    "    elapsed_time_ms = np.round(elapsed_time*1000,3)\n",
    "    return J,elapsed_time_ms"
   ],
   "metadata": {
    "collapsed": false,
    "pycharm": {
     "name": "#%%\n"
    }
   }
  },
  {
   "cell_type": "code",
   "execution_count": 13,
   "outputs": [
    {
     "name": "stdout",
     "output_type": "stream",
     "text": [
      "32.072733877455676\n",
      "0.06\n"
     ]
    }
   ],
   "source": [
    "J_np, etime_np = computeCostNumpy(X,y)\n",
    "print(J_np)\n",
    "print(etime_np)"
   ],
   "metadata": {
    "collapsed": false,
    "pycharm": {
     "name": "#%%\n"
    }
   }
  },
  {
   "cell_type": "markdown",
   "source": [
    "## Benchmark"
   ],
   "metadata": {
    "collapsed": false,
    "pycharm": {
     "name": "#%% md\n"
    }
   }
  },
  {
   "cell_type": "code",
   "source": [
    "n_iter = 1000\n",
    "etime_loop_counter = 0\n",
    "etime_vector_counter = 0\n",
    "etime_np_counter = 0\n",
    "\n",
    "for i in range(n_iter):\n",
    "    _, etime_loop = computeCostLoopBase(X,y)\n",
    "    _, etime_vec = computeCostVectorized(X,y)\n",
    "    _, etime_np = computeCostNumpy(X,y)\n",
    "    etime_loop_counter += etime_loop\n",
    "    etime_vector_counter += etime_vec\n",
    "    etime_np_counter += etime_np\n",
    "print(\"Benchmark over {} iterations\".format(n_iter))\n",
    "etime_loop_avg = np.round(etime_loop_counter / n_iter, 3)\n",
    "etime_vector_avg = np.round(etime_vector_counter/ n_iter, 3)\n",
    "etime_np_avg = np.round(etime_np_counter/n_iter,3)\n",
    "print(\"Results\\nLoop: {}ms\\nVector: {}ms\\nNP: {}ms\".format(etime_loop_avg,etime_vector_avg,etime_np_avg))"
   ],
   "metadata": {
    "collapsed": false,
    "pycharm": {
     "name": "#%%\n"
    }
   },
   "execution_count": 14,
   "outputs": [
    {
     "name": "stdout",
     "output_type": "stream",
     "text": [
      "Benchmark over 1000 iterations\n",
      "Results\n",
      "Loop: 0.842ms\n",
      "Vector: 0.009ms\n",
      "NP: 0.012ms\n"
     ]
    }
   ]
  },
  {
   "cell_type": "markdown",
   "source": [
    "## Plot $J(\\theta_1)$ with $\\theta_0 = 0$"
   ],
   "metadata": {
    "collapsed": false,
    "pycharm": {
     "name": "#%% md\n"
    }
   }
  },
  {
   "cell_type": "code",
   "execution_count": 15,
   "outputs": [
    {
     "data": {
      "text/plain": "array([[4755.55837244],\n       [3002.40403331],\n       [1651.24447355],\n       [ 702.07969315],\n       [ 154.90969213],\n       [   9.73447047],\n       [ 266.55402818],\n       [ 925.36836526],\n       [1986.17748171],\n       [3448.98137752]])"
     },
     "execution_count": 15,
     "metadata": {},
     "output_type": "execute_result"
    }
   ],
   "source": [
    "n_theta_samples = 10\n",
    "sample_theta = np.linspace(-10,10,num=n_theta_samples) #theta_1, theta_0 = 0\n",
    "\n",
    "costs = np.zeros((n_theta_samples,1))\n",
    "hypoteses = []\n",
    "\n",
    "for i in range(n_theta_samples):\n",
    "    theta = np.array([0,sample_theta[i]]).reshape(-1,1)\n",
    "\n",
    "    hypoteses.append(X.dot(theta))\n",
    "    costs[i],_ =computeCostVectorized(X,y, theta)\n",
    "\n",
    "costs"
   ],
   "metadata": {
    "collapsed": false,
    "pycharm": {
     "name": "#%%\n"
    }
   }
  },
  {
   "cell_type": "code",
   "execution_count": 16,
   "outputs": [
    {
     "data": {
      "text/plain": "<Figure size 1296x432 with 2 Axes>",
      "image/png": "[encoded data removed]"
     },
     "metadata": {
      "needs_background": "light"
     },
     "output_type": "display_data"
    }
   ],
   "source": [
    "fig = plt.figure(figsize= (18,6))\n",
    "ax1 = fig.add_subplot(121)\n",
    "ax2 = fig.add_subplot(122)\n",
    "\n",
    "ax1.scatter(X[:,1],y, marker='o', c = 'r')\n",
    "for i in range(n_theta_samples):\n",
    "    ax1.plot(X[:,1],hypoteses[i], label= str(np.round(sample_theta[i],3)))\n",
    "ax1.set_xlabel(\"Population of City (in 10K)\")\n",
    "ax1.set_ylabel(\"Profit (in 10K $)\")\n",
    "ax1.legend(loc = 'upper left', ncol=2)\n",
    "\n",
    "ax2.scatter(sample_theta,costs, marker='x')\n",
    "ax2.plot(sample_theta,costs)\n",
    "ax2.set_xlabel(r\"$\\theta_1$\")\n",
    "ax2.set_ylabel(r\"$J(\\theta_1)$\")\n",
    "\n",
    "plt.show()"
   ],
   "metadata": {
    "collapsed": false,
    "pycharm": {
     "name": "#%%\n"
    }
   }
  },
  {
   "cell_type": "markdown",
   "source": [
    "## Batch Gradient Descent (Loop-Based)\n",
    "$$\\large h_{\\theta}(x^{(i)}) = \\theta_0 + \\theta_1 x^{(i)}$$\n",
    "$$J(\\theta_0, \\theta_1) = \\frac{1}{2m} \\sum_{i=0}^{m-1}(h_{\\theta}(x^{(i)}) - y^{(i)})^2 $$\n",
    "\n",
    "$$\\frac{\\partial J(\\theta_0, \\theta_1)}{\\partial \\theta_0} = \\frac{1}{m}\\sum_{i=0}^{m-1}(h_{\\theta}(x^{(i)}) - y^{(i)})$$\n",
    "$$\\frac{\\partial J(\\theta_0, \\theta_1)}{\\partial \\theta_1} = \\frac{1}{m}\\sum_{i=0}^{m-1}(h_{\\theta}(x^{(i)}) - y^{(i)}) x^{(i)}$$\n",
    "\n",
    "Repeat {\n",
    "$$\\theta_0 := \\theta_0 - \\frac{\\alpha}{m} \\sum_{i=0}^{m-1}(h_{\\theta}(x^{(i)}) - y^{(i)})$$\n",
    "$$\\theta_1 := \\theta_1 - \\frac{\\alpha}{m} \\sum_{i=0}^{m-1}(h_{\\theta}(x^{(i)}) - y^{(i)}) x^{(i)} $$\n",
    "}\n"
   ],
   "metadata": {
    "collapsed": false
   }
  },
  {
   "cell_type": "markdown",
   "source": [],
   "metadata": {
    "collapsed": false
   }
  },
  {
   "cell_type": "code",
   "execution_count": 17,
   "outputs": [],
   "source": [
    "def gradientDescentLoop2(X, y, theta = np.zeros((X.shape[1],1)), alpha = 0.001, n_iters = 1000):\n",
    "    m = X.shape[0]\n",
    "    n = X.shape[1]\n",
    "    J = 0\n",
    "    for iter in range(n_iters):\n",
    "        prev = J\n",
    "        J,_= computeCostLoopBase(X,y,theta)\n",
    "        stdout.write(\"\\rIteration {}/{} Cost: {} Loss: {}\".format(iter,n_iters,J, prev-J))\n",
    "        partial_sum = np.zeros((n_theta_samples,1))\n",
    "        for i in range(m):\n",
    "            h = 0\n",
    "            for j in range(n):\n",
    "                h += theta[j]*X[i][j]\n",
    "            for j in range(n):\n",
    "                partial_sum[j] += (h - y[i])*X[i][j]\n",
    "        for j in range(n):\n",
    "            theta[j] = theta[j] - ((alpha/m)* partial_sum[j])\n",
    "    stdout.write(\"\\n\")\n",
    "    return theta,J"
   ],
   "metadata": {
    "collapsed": false,
    "pycharm": {
     "name": "#%%\n"
    }
   }
  },
  {
   "cell_type": "code",
   "execution_count": 18,
   "outputs": [],
   "source": [
    "def gradientDescentLoop(X, y, theta = np.zeros((X.shape[1],1)), alpha = 0.001, n_iters = 1000, early = False, epsilon = 0.000001):\n",
    "    m = X.shape[0]\n",
    "    n = X.shape[1]\n",
    "    J = np.zeros((n_iters,1))\n",
    "    theta_gd = np.copy(theta)\n",
    "    elapsed_time = -time.time()\n",
    "    for iter in range(n_iters):\n",
    "        prev = J[iter -1]\n",
    "        J[iter],_= computeCostLoopBase(X,y,theta_gd)\n",
    "        #stdout.write(\"\\rIteration {}/{} Cost: {} Loss: {}\".format(iter,n_iters,J[iter], prev-J[iter]))\n",
    "\n",
    "        h = np.zeros((m,1))\n",
    "        partial_sum = np.zeros((n,1))\n",
    "        for i in range(m):\n",
    "            for j in range(n):\n",
    "                h[i] += theta_gd[j]*X[i][j]\n",
    "            for j in range(n):\n",
    "                partial_sum[j] += (h[i] - y[i])*X[i][j]\n",
    "        for j in range(n):\n",
    "            theta_gd[j] = theta_gd[j] - ((alpha/m)* partial_sum[j])\n",
    "\n",
    "        if early:\n",
    "            if (iter != 0) and (J[iter -1 ] - J[iter] < epsilon):\n",
    "                elapsed_time += time.time()\n",
    "                elapsed_time = np.round(elapsed_time*1000,3)\n",
    "                #stdout.write(\"\\n\")\n",
    "                return theta_gd,J[J!=0],elapsed_time\n",
    "\n",
    "    elapsed_time += time.time()\n",
    "    elapsed_time = np.round(elapsed_time*1000,3)\n",
    "    #stdout.write(\"\\n\")\n",
    "    return theta_gd,J,elapsed_time"
   ],
   "metadata": {
    "collapsed": false,
    "pycharm": {
     "name": "#%%\n"
    }
   }
  },
  {
   "cell_type": "code",
   "execution_count": 24,
   "outputs": [
    {
     "name": "stdout",
     "output_type": "stream",
     "text": [
      "Time: 34914.404ms\n",
      "Theta0: [-3.89570127] Theta1: [1.19302565]\n",
      "Cost: [[32.07273388]\n",
      " [20.75843135]\n",
      " [14.33684248]\n",
      " ...\n",
      " [ 4.47697138]\n",
      " [ 4.47697138]\n",
      " [ 4.47697138]]\n"
     ]
    }
   ],
   "source": [
    "theta,J_history_loop,etime_gd_loop = gradientDescentLoop(X,y,alpha=0.003, n_iters=20000)\n",
    "print(\"Time: {}ms\".format(etime_gd_loop))\n",
    "print(\"Theta0: {} Theta1: {}\".format(theta[0],theta[1]))\n",
    "print(\"Cost: {}\".format(J_history_loop))"
   ],
   "metadata": {
    "collapsed": false,
    "pycharm": {
     "name": "#%%\n"
    }
   }
  },
  {
   "cell_type": "markdown",
   "source": [
    "## Scikit learn Linear Regression"
   ],
   "metadata": {
    "collapsed": false,
    "pycharm": {
     "name": "#%% md\n"
    }
   }
  },
  {
   "cell_type": "code",
   "execution_count": 29,
   "outputs": [
    {
     "name": "stdout",
     "output_type": "stream",
     "text": [
      "Theta0: [[0.         1.19303364]] Theta1[-3.89578088] \n"
     ]
    }
   ],
   "source": [
    "from sklearn.linear_model import LinearRegression\n",
    "\n",
    "reg = LinearRegression()\n",
    "reg.fit(X,y)\n",
    "theta_sklearn = np.array([reg.intercept_[0],reg.coef_[0][1]]).reshape(-1,1)\n",
    "print(\"Theta0: {} Theta1{} \".format(reg.coef_,reg.intercept_))"
   ],
   "metadata": {
    "collapsed": false,
    "pycharm": {
     "name": "#%%\n"
    }
   }
  },
  {
   "cell_type": "code",
   "execution_count": 30,
   "outputs": [
    {
     "data": {
      "text/plain": "Text(0, 0.5, '$J(\\\\theta)$')"
     },
     "execution_count": 30,
     "metadata": {},
     "output_type": "execute_result"
    },
    {
     "data": {
      "text/plain": "<Figure size 1296x432 with 1 Axes>",
      "image/png": "[encoded data removed]"
     },
     "metadata": {
      "needs_background": "light"
     },
     "output_type": "display_data"
    },
    {
     "data": {
      "text/plain": "<Figure size 864x576 with 1 Axes>",
      "image/png": "[encoded data removed]"
     },
     "metadata": {
      "needs_background": "light"
     },
     "output_type": "display_data"
    }
   ],
   "source": [
    "fig = plt.figure(figsize= (18,6))\n",
    "plt.scatter(X[:,1],y, marker='o', c = 'r', label=\"Sample data\")\n",
    "#axes = plt.gca()\n",
    "#x_vals = np.array(axes.get_xlim())\n",
    "#y_vals = theta[0] + theta[1] * x_vals\n",
    "#plt.plot(x_vals, y_vals, '--')\n",
    "plt.plot(X[:,1], X.dot(theta), label='{} +{}x'.format(theta[0],theta[1]))\n",
    "plt.plot(X[:,1], X.dot(theta_sklearn), label='sklearn')\n",
    "plt.xlabel(\"Population\")\n",
    "plt.ylabel(\"Profit\")\n",
    "plt.legend()\n",
    "\n",
    "plt.figure(figsize=(12,8))\n",
    "plt.plot(np.arange(J_history_loop.shape[0])+1,J_history_loop)\n",
    "plt.xlabel(\"iterations\")\n",
    "plt.ylabel(r\"$J(\\theta)$\")"
   ],
   "metadata": {
    "collapsed": false,
    "pycharm": {
     "name": "#%%\n"
    }
   }
  },
  {
   "cell_type": "markdown",
   "source": [
    "# Contour Plots"
   ],
   "metadata": {
    "collapsed": false,
    "pycharm": {
     "name": "#%% md\n"
    }
   }
  },
  {
   "cell_type": "code",
   "execution_count": 35,
   "outputs": [],
   "source": [
    "B0 = np.linspace(-80,80,50)\n",
    "B1 = np.linspace(-10,10,50)\n",
    "\n",
    "xx, yy = np.meshgrid(B0,B1, indexing='xy')\n",
    "\n",
    "Z = np.zeros((B0.shape[0],B1.shape[0]))\n",
    "for (i,j), v in np.ndenumerate(Z):\n",
    "    Z[i][j],_ =computeCostVectorized(X,y,theta = [[xx[i][j]],[yy[i][j]]])"
   ],
   "metadata": {
    "collapsed": false,
    "pycharm": {
     "name": "#%%\n"
    }
   }
  },
  {
   "cell_type": "code",
   "execution_count": null,
   "outputs": [],
   "source": [],
   "metadata": {
    "collapsed": false,
    "pycharm": {
     "name": "#%%\n"
    }
   }
  }
 ],
 "metadata": {
  "kernelspec": {
   "display_name": "Python 3",
   "language": "python",
   "name": "python3"
  },
  "language_info": {
   "codemirror_mode": {
    "name": "ipython",
    "version": 2
   },
   "file_extension": ".py",
   "mimetype": "text/x-python",
   "name": "python",
   "nbconvert_exporter": "python",
   "pygments_lexer": "ipython2",
   "version": "2.7.6"
  }
 },
 "nbformat": 4,
 "nbformat_minor": 0
}