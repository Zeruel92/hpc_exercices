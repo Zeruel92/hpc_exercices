{
 "cells": [
  {
   "cell_type": "markdown",
   "source": [
    "# Logistic Regression"
   ],
   "metadata": {
    "collapsed": false,
    "pycharm": {
     "name": "#%% md\n"
    }
   }
  },
  {
   "cell_type": "code",
   "execution_count": 1,
   "metadata": {
    "collapsed": true,
    "pycharm": {
     "name": "#%%\n"
    }
   },
   "outputs": [],
   "source": [
    "import numpy as np\n",
    "import pandas as pd\n",
    "from matplotlib import pyplot as plt"
   ]
  },
  {
   "cell_type": "code",
   "execution_count": 2,
   "outputs": [],
   "source": [
    "columns = ['Exam 1 Score', 'Exam 2 score', 'Result']\n",
    "dataset = pd.read_csv('./ex2data1.txt', delimiter=',', header=None, names=columns)"
   ],
   "metadata": {
    "collapsed": false,
    "pycharm": {
     "name": "#%%\n"
    }
   }
  },
  {
   "cell_type": "markdown",
   "source": [
    "## Training/Test set split"
   ],
   "metadata": {
    "collapsed": false,
    "pycharm": {
     "name": "#%% md\n"
    }
   }
  },
  {
   "cell_type": "code",
   "execution_count": 3,
   "outputs": [],
   "source": [
    "dataset['Intercept'] = np.ones((dataset.shape[0],1))\n",
    "dataset = dataset.reindex(columns=['Intercept']+columns)\n",
    "#dataset.insert(0,'Intercept',1)"
   ],
   "metadata": {
    "collapsed": false,
    "pycharm": {
     "name": "#%%\n"
    }
   }
  },
  {
   "cell_type": "code",
   "execution_count": 4,
   "outputs": [],
   "source": [
    "shuffled_dataset = dataset.sample(frac=1)"
   ],
   "metadata": {
    "collapsed": false,
    "pycharm": {
     "name": "#%%\n"
    }
   }
  },
  {
   "cell_type": "code",
   "execution_count": 5,
   "outputs": [],
   "source": [
    "X_train = shuffled_dataset.iloc[:int(shuffled_dataset.shape[0]*0.7), :3]\n",
    "y_train = shuffled_dataset.iloc[:int(shuffled_dataset.shape[0]*0.7),[-1]]\n",
    "\n",
    "X_test = shuffled_dataset.iloc[int(shuffled_dataset.shape[0]*0.7):,:3]\n",
    "y_test = shuffled_dataset.iloc[int(shuffled_dataset.shape[0]*0.7):,[-1]]"
   ],
   "metadata": {
    "collapsed": false,
    "pycharm": {
     "name": "#%%\n"
    }
   }
  },
  {
   "cell_type": "markdown",
   "source": [
    "## Plot Data"
   ],
   "metadata": {
    "collapsed": false,
    "pycharm": {
     "name": "#%% md\n"
    }
   }
  },
  {
   "cell_type": "code",
   "execution_count": 6,
   "outputs": [
    {
     "data": {
      "text/plain": "<Figure size 1080x576 with 1 Axes>",
      "image/png": "[encoded data removed]"
     },
     "metadata": {
      "needs_background": "light"
     },
     "output_type": "display_data"
    }
   ],
   "source": [
    "plt.figure(figsize=(15,8))\n",
    "\n",
    "neg = X_train[y_train.Result == 0]\n",
    "pos = X_train[y_train.Result == 1]\n",
    "\n",
    "plt.scatter(neg.iloc[:,1].values,neg.iloc[:,2], c='b', marker='o', label='Not Admitted')\n",
    "plt.scatter(pos.iloc[:,1].values,pos.iloc[:,2], c='r', marker='x', label='Admitted')\n",
    "plt.legend()\n",
    "plt.xlabel(columns[0])\n",
    "plt.ylabel(columns[1])\n",
    "plt.show()"
   ],
   "metadata": {
    "collapsed": false,
    "pycharm": {
     "name": "#%%\n"
    }
   }
  },
  {
   "cell_type": "markdown",
   "source": [
    "## Logistic Regression Hypotesis\n",
    "\n",
    "$$\\large h_{\\theta}(x) = g(\\theta_0 + \\theta_1 x_1 + \\theta_2 x_2)$$\n",
    "\n",
    "$$\\large g(z) = \\frac{1}{1+e^{-z}}$$"
   ],
   "metadata": {
    "collapsed": false,
    "pycharm": {
     "name": "#%% md\n"
    }
   }
  },
  {
   "cell_type": "code",
   "execution_count": 7,
   "outputs": [],
   "source": [
    "def sigmoid(z):\n",
    "    return 1 / (1 + np.exp(-z))"
   ],
   "metadata": {
    "collapsed": false,
    "pycharm": {
     "name": "#%%\n"
    }
   }
  },
  {
   "cell_type": "markdown",
   "source": [
    "## Logistic Regression cost Function (Binary Cross Entropy)\n",
    "\n",
    "$$ \\large J(\\theta) = - \\frac{1}{m} \\sum^{m-1}_{i=0} Loss_i$$\n",
    "$$ \\large Loss_i =\\sum_{i = 0}^{m-1} y^{(i)} log(h_{\\theta} (x^{(i)})) + (1-y^{(i)}) log(1-h_{\\theta}(x^{(i)})) $$\n",
    "\n",
    "$$ \\large J(\\theta) = - \\frac{1}{m} ((\\log(g(X\\theta)))^T y + (log(1-g(X\\theta)))^T (1-y))$$"
   ],
   "metadata": {
    "collapsed": false,
    "pycharm": {
     "name": "#%% md\n"
    }
   }
  },
  {
   "cell_type": "code",
   "execution_count": 8,
   "outputs": [],
   "source": [
    "def computeCost(theta, X, y):\n",
    "    m = X.shape[0]\n",
    "    J = -( 1 / m)* (np.log(sigmoid(X.dot(theta))).T.dot(y) + np.log(1 - sigmoid(X.dot(theta))).T.dot(1-y))\n",
    "    if np.isnan(J[0]):\n",
    "        return (np.inf)\n",
    "    return (J[0])"
   ],
   "metadata": {
    "collapsed": false,
    "pycharm": {
     "name": "#%%\n"
    }
   }
  },
  {
   "cell_type": "code",
   "execution_count": 9,
   "outputs": [
    {
     "data": {
      "text/plain": "array([0.69314718])"
     },
     "execution_count": 9,
     "metadata": {},
     "output_type": "execute_result"
    }
   ],
   "source": [
    "computeCost(np.zeros((X_train.shape[1],1)),X_train.values,y_train.values)"
   ],
   "metadata": {
    "collapsed": false,
    "pycharm": {
     "name": "#%%\n"
    }
   }
  },
  {
   "cell_type": "markdown",
   "source": [
    "## Gradient Descent"
   ],
   "metadata": {
    "collapsed": false,
    "pycharm": {
     "name": "#%% md\n"
    }
   }
  },
  {
   "cell_type": "code",
   "execution_count": 10,
   "outputs": [],
   "source": [
    "def gradientDescent(X, y, theta = np.zeros((X_train.shape[1],1)), alpha = 0.001, n_iters = 1000):\n",
    "    theta_gd = np.copy(theta)\n",
    "    m = X.shape[0]\n",
    "    J = np.zeros((n_iters,1))\n",
    "    for i in range(n_iters):\n",
    "        J[i] = computeCost(theta_gd,X,y)\n",
    "        h = sigmoid(X.dot(theta_gd))\n",
    "        theta_gd = theta_gd - (alpha/m)*X.T.dot(h -y)\n",
    "    return theta_gd,J"
   ],
   "metadata": {
    "collapsed": false,
    "pycharm": {
     "name": "#%%\n"
    }
   }
  },
  {
   "cell_type": "code",
   "execution_count": 11,
   "outputs": [],
   "source": [
    "theta_gd, J_history = gradientDescent(X_train.values,y_train.values,alpha=0.00001,n_iters=10000)"
   ],
   "metadata": {
    "collapsed": false,
    "pycharm": {
     "name": "#%%\n"
    }
   }
  },
  {
   "cell_type": "code",
   "execution_count": 12,
   "outputs": [
    {
     "data": {
      "text/plain": "<Figure size 576x360 with 1 Axes>",
      "image/png": "[encoded data removed]"
     },
     "metadata": {
      "needs_background": "light"
     },
     "output_type": "display_data"
    }
   ],
   "source": [
    "plt.figure(figsize=(8,5))\n",
    "plt.plot(np.arange(J_history.shape[0]),J_history)\n",
    "plt.show()"
   ],
   "metadata": {
    "collapsed": false,
    "pycharm": {
     "name": "#%%\n"
    }
   }
  },
  {
   "cell_type": "markdown",
   "source": [
    "## Advanced Optimization"
   ],
   "metadata": {
    "collapsed": false,
    "pycharm": {
     "name": "#%% md\n"
    }
   }
  },
  {
   "cell_type": "code",
   "execution_count": 13,
   "outputs": [],
   "source": [
    "def gradient(theta, X, y):\n",
    "    m = X.shape[0]\n",
    "    h = sigmoid(X.dot(theta.reshape(-1,1)))\n",
    "    grad = (1/m)*X.T.dot(h-y)\n",
    "    return (grad.flatten())"
   ],
   "metadata": {
    "collapsed": false,
    "pycharm": {
     "name": "#%%\n"
    }
   }
  },
  {
   "cell_type": "code",
   "execution_count": 14,
   "outputs": [
    {
     "name": "stderr",
     "output_type": "stream",
     "text": [
      "/tmp/ipykernel_18259/1976904243.py:3: RuntimeWarning: divide by zero encountered in log\n",
      "  J = -( 1 / m)* (np.log(sigmoid(X.dot(theta))).T.dot(y) + np.log(1 - sigmoid(X.dot(theta))).T.dot(1-y))\n",
      "/tmp/ipykernel_18259/1976904243.py:3: RuntimeWarning: divide by zero encountered in log\n",
      "  J = -( 1 / m)* (np.log(sigmoid(X.dot(theta))).T.dot(y) + np.log(1 - sigmoid(X.dot(theta))).T.dot(1-y))\n"
     ]
    }
   ],
   "source": [
    "from scipy.optimize import minimize\n",
    "#t = np.random.random((X_train.shape[1],1))\n",
    "t = np.zeros((X_train.shape[1],1))\n",
    "res = minimize(computeCost, t, args=(X_train.values,y_train.values), method='BFGS', jac = gradient)"
   ],
   "metadata": {
    "collapsed": false,
    "pycharm": {
     "name": "#%%\n"
    }
   }
  },
  {
   "cell_type": "code",
   "execution_count": 15,
   "outputs": [],
   "source": [
    "theta_opt = res.x.reshape(-1,1)"
   ],
   "metadata": {
    "collapsed": false,
    "pycharm": {
     "name": "#%%\n"
    }
   }
  },
  {
   "cell_type": "markdown",
   "source": [
    "## Plot Decision Boundary"
   ],
   "metadata": {
    "collapsed": false,
    "pycharm": {
     "name": "#%% md\n"
    }
   }
  },
  {
   "cell_type": "code",
   "execution_count": 16,
   "outputs": [
    {
     "data": {
      "text/plain": "<Figure size 1080x576 with 1 Axes>",
      "image/png": "[encoded data removed]"
     },
     "metadata": {
      "needs_background": "light"
     },
     "output_type": "display_data"
    }
   ],
   "source": [
    "plt.figure(figsize=(15,8))\n",
    "\n",
    "neg = X_train[y_train.Result == 0]\n",
    "pos = X_train[y_train.Result == 1]\n",
    "\n",
    "plt.scatter(neg.iloc[:,1].values,neg.iloc[:,2], c='b', marker='o', label='Not Admitted')\n",
    "plt.scatter(pos.iloc[:,1].values,pos.iloc[:,2], c='r', marker='x', label='Admitted')\n",
    "\n",
    "x1_min = X_train.iloc[:,1].min()\n",
    "x1_max = X_train.iloc[:,1].max()\n",
    "x2_min = X_train.iloc[:,2].min()\n",
    "x2_max = X_train.iloc[:,2].max()\n",
    "\n",
    "xx1,xx2 = np.meshgrid(np.linspace(x1_min,x1_max),np.linspace(x2_min,x2_max))\n",
    "\n",
    "h = np.c_[np.ones((xx1.ravel().shape[0],1)),xx1.ravel(),xx2.ravel()].dot(theta_opt)\n",
    "\n",
    "plt.contour(xx1,xx2,h.reshape(xx1.shape),[0.5],linewidths=1)\n",
    "\n",
    "plt.legend()\n",
    "plt.xlabel(columns[0])\n",
    "plt.ylabel(columns[1])\n",
    "plt.show()"
   ],
   "metadata": {
    "collapsed": false,
    "pycharm": {
     "name": "#%%\n"
    }
   }
  },
  {
   "cell_type": "markdown",
   "source": [
    "## Binary Classifier Evaluation"
   ],
   "metadata": {
    "collapsed": false,
    "pycharm": {
     "name": "#%% md\n"
    }
   }
  },
  {
   "cell_type": "code",
   "execution_count": 18,
   "outputs": [
    {
     "data": {
      "text/plain": "           0\n6   0.998903\n5   0.014535\n2   0.067759\n69  0.681435\n8   0.999587\n..       ...\n89  0.122352\n49  0.999982\n77  0.665064\n44  0.005469\n59  0.994491\n\n[70 rows x 1 columns]",
      "text/html": "<div>\n<style scoped>\n    .dataframe tbody tr th:only-of-type {\n        vertical-align: middle;\n    }\n\n    .dataframe tbody tr th {\n        vertical-align: top;\n    }\n\n    .dataframe thead th {\n        text-align: right;\n    }\n</style>\n<table border=\"1\" class=\"dataframe\">\n  <thead>\n    <tr style=\"text-align: right;\">\n      <th></th>\n      <th>0</th>\n    </tr>\n  </thead>\n  <tbody>\n    <tr>\n      <th>6</th>\n      <td>0.998903</td>\n    </tr>\n    <tr>\n      <th>5</th>\n      <td>0.014535</td>\n    </tr>\n    <tr>\n      <th>2</th>\n      <td>0.067759</td>\n    </tr>\n    <tr>\n      <th>69</th>\n      <td>0.681435</td>\n    </tr>\n    <tr>\n      <th>8</th>\n      <td>0.999587</td>\n    </tr>\n    <tr>\n      <th>...</th>\n      <td>...</td>\n    </tr>\n    <tr>\n      <th>89</th>\n      <td>0.122352</td>\n    </tr>\n    <tr>\n      <th>49</th>\n      <td>0.999982</td>\n    </tr>\n    <tr>\n      <th>77</th>\n      <td>0.665064</td>\n    </tr>\n    <tr>\n      <th>44</th>\n      <td>0.005469</td>\n    </tr>\n    <tr>\n      <th>59</th>\n      <td>0.994491</td>\n    </tr>\n  </tbody>\n</table>\n<p>70 rows × 1 columns</p>\n</div>"
     },
     "execution_count": 18,
     "metadata": {},
     "output_type": "execute_result"
    }
   ],
   "source": [
    "h_train_score = sigmoid(X_train.dot(theta_opt))\n",
    "h_train_score"
   ],
   "metadata": {
    "collapsed": false,
    "pycharm": {
     "name": "#%%\n"
    }
   }
  },
  {
   "cell_type": "code",
   "execution_count": 24,
   "outputs": [
    {
     "data": {
      "text/plain": "      0\n6   1.0\n5   0.0\n2   0.0\n69  1.0\n8   1.0\n..  ...\n89  0.0\n49  1.0\n77  1.0\n44  0.0\n59  1.0\n\n[70 rows x 1 columns]",
      "text/html": "<div>\n<style scoped>\n    .dataframe tbody tr th:only-of-type {\n        vertical-align: middle;\n    }\n\n    .dataframe tbody tr th {\n        vertical-align: top;\n    }\n\n    .dataframe thead th {\n        text-align: right;\n    }\n</style>\n<table border=\"1\" class=\"dataframe\">\n  <thead>\n    <tr style=\"text-align: right;\">\n      <th></th>\n      <th>0</th>\n    </tr>\n  </thead>\n  <tbody>\n    <tr>\n      <th>6</th>\n      <td>1.0</td>\n    </tr>\n    <tr>\n      <th>5</th>\n      <td>0.0</td>\n    </tr>\n    <tr>\n      <th>2</th>\n      <td>0.0</td>\n    </tr>\n    <tr>\n      <th>69</th>\n      <td>1.0</td>\n    </tr>\n    <tr>\n      <th>8</th>\n      <td>1.0</td>\n    </tr>\n    <tr>\n      <th>...</th>\n      <td>...</td>\n    </tr>\n    <tr>\n      <th>89</th>\n      <td>0.0</td>\n    </tr>\n    <tr>\n      <th>49</th>\n      <td>1.0</td>\n    </tr>\n    <tr>\n      <th>77</th>\n      <td>1.0</td>\n    </tr>\n    <tr>\n      <th>44</th>\n      <td>0.0</td>\n    </tr>\n    <tr>\n      <th>59</th>\n      <td>1.0</td>\n    </tr>\n  </tbody>\n</table>\n<p>70 rows × 1 columns</p>\n</div>"
     },
     "execution_count": 24,
     "metadata": {},
     "output_type": "execute_result"
    }
   ],
   "source": [
    "threshold = 0.5\n",
    "y_hat_train = h_train_score.copy()\n",
    "y_hat_train[y_hat_train >= threshold] = 1\n",
    "y_hat_train[y_hat_train < threshold] = 0\n",
    "y_hat_train"
   ],
   "metadata": {
    "collapsed": false,
    "pycharm": {
     "name": "#%%\n"
    }
   }
  },
  {
   "cell_type": "markdown",
   "source": [
    "## Confusion Matrix"
   ],
   "metadata": {
    "collapsed": false,
    "pycharm": {
     "name": "#%% md\n"
    }
   }
  },
  {
   "cell_type": "code",
   "execution_count": 28,
   "outputs": [
    {
     "data": {
      "text/plain": "<Figure size 432x288 with 2 Axes>",
      "image/png": "[encoded data removed]"
     },
     "metadata": {
      "needs_background": "light"
     },
     "output_type": "display_data"
    }
   ],
   "source": [
    "from sklearn.metrics import confusion_matrix,ConfusionMatrixDisplay\n",
    "\n",
    "cm = confusion_matrix(y_train,y_hat_train)\n",
    "disp = ConfusionMatrixDisplay(cm)\n",
    "disp.plot()\n",
    "plt.show()"
   ],
   "metadata": {
    "collapsed": false,
    "pycharm": {
     "name": "#%%\n"
    }
   }
  },
  {
   "cell_type": "markdown",
   "source": [
    "## Classification Report"
   ],
   "metadata": {
    "collapsed": false,
    "pycharm": {
     "name": "#%% md\n"
    }
   }
  },
  {
   "cell_type": "code",
   "execution_count": 29,
   "outputs": [
    {
     "name": "stdout",
     "output_type": "stream",
     "text": [
      "              precision    recall  f1-score   support\n",
      "\n",
      "           0       0.84      0.90      0.87        30\n",
      "           1       0.92      0.88      0.90        40\n",
      "\n",
      "    accuracy                           0.89        70\n",
      "   macro avg       0.88      0.89      0.88        70\n",
      "weighted avg       0.89      0.89      0.89        70\n",
      "\n"
     ]
    }
   ],
   "source": [
    "from sklearn.metrics import classification_report\n",
    "report = classification_report(y_train,y_hat_train)\n",
    "print(report)"
   ],
   "metadata": {
    "collapsed": false,
    "pycharm": {
     "name": "#%%\n"
    }
   }
  },
  {
   "cell_type": "markdown",
   "source": [
    "## Accuracy"
   ],
   "metadata": {
    "collapsed": false,
    "pycharm": {
     "name": "#%% md\n"
    }
   }
  },
  {
   "cell_type": "code",
   "execution_count": 31,
   "outputs": [
    {
     "data": {
      "text/plain": "0.89"
     },
     "execution_count": 31,
     "metadata": {},
     "output_type": "execute_result"
    }
   ],
   "source": [
    "from sklearn.metrics import accuracy_score\n",
    "\n",
    "np.round(accuracy_score(y_train,y_hat_train),2)"
   ],
   "metadata": {
    "collapsed": false,
    "pycharm": {
     "name": "#%%\n"
    }
   }
  },
  {
   "cell_type": "markdown",
   "source": [
    "## Precision"
   ],
   "metadata": {
    "collapsed": false,
    "pycharm": {
     "name": "#%% md\n"
    }
   }
  },
  {
   "cell_type": "code",
   "execution_count": 32,
   "outputs": [
    {
     "data": {
      "text/plain": "0.92"
     },
     "execution_count": 32,
     "metadata": {},
     "output_type": "execute_result"
    }
   ],
   "source": [
    "from sklearn.metrics import precision_score\n",
    "\n",
    "np.round(precision_score(y_train,y_hat_train),2)"
   ],
   "metadata": {
    "collapsed": false,
    "pycharm": {
     "name": "#%%\n"
    }
   }
  },
  {
   "cell_type": "markdown",
   "source": [
    "## Recall"
   ],
   "metadata": {
    "collapsed": false,
    "pycharm": {
     "name": "#%% md\n"
    }
   }
  },
  {
   "cell_type": "code",
   "execution_count": 33,
   "outputs": [
    {
     "data": {
      "text/plain": "0.88"
     },
     "execution_count": 33,
     "metadata": {},
     "output_type": "execute_result"
    }
   ],
   "source": [
    "from sklearn.metrics import recall_score\n",
    "\n",
    "np.round(recall_score(y_train,y_hat_train),2)"
   ],
   "metadata": {
    "collapsed": false,
    "pycharm": {
     "name": "#%%\n"
    }
   }
  },
  {
   "cell_type": "markdown",
   "source": [
    "## $F_1$-Score Plot"
   ],
   "metadata": {
    "collapsed": false,
    "pycharm": {
     "name": "#%% md\n"
    }
   }
  },
  {
   "cell_type": "code",
   "execution_count": 35,
   "outputs": [],
   "source": [
    "from sklearn.metrics import f1_score"
   ],
   "metadata": {
    "collapsed": false,
    "pycharm": {
     "name": "#%%\n"
    }
   }
  },
  {
   "cell_type": "code",
   "execution_count": 46,
   "outputs": [],
   "source": [
    "thresholds = np.linspace(0,1,100)\n",
    "f1_scores = []\n",
    "for t in thresholds:\n",
    "    y_hat_train = h_train_score.copy()\n",
    "    y_hat_train[y_hat_train >= t] = 1\n",
    "    y_hat_train[y_hat_train < t] = 0\n",
    "    f1_scores.append(f1_score(y_train,y_hat_train))\n",
    "\n",
    "max_threshold_idx = np.argmax(f1_scores)"
   ],
   "metadata": {
    "collapsed": false,
    "pycharm": {
     "name": "#%%\n"
    }
   }
  },
  {
   "cell_type": "code",
   "execution_count": 50,
   "outputs": [
    {
     "data": {
      "text/plain": "<Figure size 576x360 with 1 Axes>",
      "image/png": "[encoded data removed]"
     },
     "metadata": {
      "needs_background": "light"
     },
     "output_type": "display_data"
    }
   ],
   "source": [
    "plt.figure(figsize=(8,5))\n",
    "plt.plot(thresholds,f1_scores)\n",
    "plt.scatter(thresholds[max_threshold_idx],f1_scores[max_threshold_idx], c='r')\n",
    "plt.vlines(thresholds[max_threshold_idx],0,1,colors='r',linestyles='dashed')\n",
    "plt.xlabel('thresholds')\n",
    "plt.ylabel(r'$F_1$ Score')\n",
    "plt.grid()\n",
    "plt.show()"
   ],
   "metadata": {
    "collapsed": false,
    "pycharm": {
     "name": "#%%\n"
    }
   }
  },
  {
   "cell_type": "markdown",
   "source": [
    "## ROC Curve and AUC"
   ],
   "metadata": {
    "collapsed": false,
    "pycharm": {
     "name": "#%% md\n"
    }
   }
  },
  {
   "cell_type": "code",
   "execution_count": 52,
   "outputs": [],
   "source": [
    "from sklearn.metrics import roc_curve,roc_auc_score"
   ],
   "metadata": {
    "collapsed": false,
    "pycharm": {
     "name": "#%%\n"
    }
   }
  },
  {
   "cell_type": "code",
   "execution_count": 71,
   "outputs": [
    {
     "data": {
      "text/plain": "<Figure size 576x360 with 1 Axes>",
      "image/png": "[encoded data removed]"
     },
     "metadata": {
      "needs_background": "light"
     },
     "output_type": "display_data"
    }
   ],
   "source": [
    "fpr, tpr, thresholds = roc_curve(y_train,h_train_score,drop_intermediate=False)\n",
    "auc = np.round(roc_auc_score(y_train,h_train_score),2)\n",
    "\n",
    "plt.figure(figsize=(8,5))\n",
    "plt.plot(fpr,tpr)\n",
    "plt.xlabel('False positive')\n",
    "plt.ylabel('True positive')\n",
    "plt.title('ROC Curve (AUC = {} % )'.format(auc*100))\n",
    "plt.show()"
   ],
   "metadata": {
    "collapsed": false,
    "pycharm": {
     "name": "#%%\n"
    }
   }
  }
 ],
 "metadata": {
  "kernelspec": {
   "display_name": "Python 3",
   "language": "python",
   "name": "python3"
  },
  "language_info": {
   "codemirror_mode": {
    "name": "ipython",
    "version": 2
   },
   "file_extension": ".py",
   "mimetype": "text/x-python",
   "name": "python",
   "nbconvert_exporter": "python",
   "pygments_lexer": "ipython2",
   "version": "2.7.6"
  }
 },
 "nbformat": 4,
 "nbformat_minor": 0
}