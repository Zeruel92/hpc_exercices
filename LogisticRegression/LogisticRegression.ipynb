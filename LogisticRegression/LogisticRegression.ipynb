{
 "cells": [
  {
   "cell_type": "markdown",
   "source": [
    "# Logistic Regression"
   ],
   "metadata": {
    "collapsed": false,
    "pycharm": {
     "name": "#%% md\n"
    }
   }
  },
  {
   "cell_type": "code",
   "execution_count": 1,
   "metadata": {
    "collapsed": true,
    "pycharm": {
     "name": "#%%\n"
    }
   },
   "outputs": [],
   "source": [
    "import numpy as np\n",
    "import pandas as pd\n",
    "from matplotlib import pyplot as plt"
   ]
  },
  {
   "cell_type": "code",
   "execution_count": 2,
   "outputs": [],
   "source": [
    "columns = ['Exam 1 Score', 'Exam 2 score', 'Result']\n",
    "dataset = pd.read_csv('./ex2data1.txt', delimiter=',', header=None, names=columns)"
   ],
   "metadata": {
    "collapsed": false,
    "pycharm": {
     "name": "#%%\n"
    }
   }
  },
  {
   "cell_type": "markdown",
   "source": [
    "## Training/Test set split"
   ],
   "metadata": {
    "collapsed": false,
    "pycharm": {
     "name": "#%% md\n"
    }
   }
  },
  {
   "cell_type": "code",
   "execution_count": 3,
   "outputs": [],
   "source": [
    "dataset['Intercept'] = np.ones((dataset.shape[0],1))\n",
    "dataset = dataset.reindex(columns=['Intercept']+columns)\n",
    "#dataset.insert(0,'Intercept',1)"
   ],
   "metadata": {
    "collapsed": false,
    "pycharm": {
     "name": "#%%\n"
    }
   }
  },
  {
   "cell_type": "code",
   "execution_count": 4,
   "outputs": [],
   "source": [
    "shuffled_dataset = dataset.sample(frac=1)"
   ],
   "metadata": {
    "collapsed": false,
    "pycharm": {
     "name": "#%%\n"
    }
   }
  },
  {
   "cell_type": "code",
   "execution_count": 5,
   "outputs": [],
   "source": [
    "X_train = shuffled_dataset.iloc[:int(shuffled_dataset.shape[0]*0.7), :3]\n",
    "y_train = shuffled_dataset.iloc[:int(shuffled_dataset.shape[0]*0.7),[-1]]\n",
    "\n",
    "X_test = shuffled_dataset.iloc[int(shuffled_dataset.shape[0]*0.7):,:3]\n",
    "y_test = shuffled_dataset.iloc[int(shuffled_dataset.shape[0]*0.7):,[-1]]"
   ],
   "metadata": {
    "collapsed": false,
    "pycharm": {
     "name": "#%%\n"
    }
   }
  },
  {
   "cell_type": "markdown",
   "source": [
    "## Plot Data"
   ],
   "metadata": {
    "collapsed": false,
    "pycharm": {
     "name": "#%% md\n"
    }
   }
  },
  {
   "cell_type": "code",
   "execution_count": 6,
   "outputs": [
    {
     "data": {
      "text/plain": "<Figure size 1080x576 with 1 Axes>",
      "image/png": "[encoded data removed]"
     },
     "metadata": {
      "needs_background": "light"
     },
     "output_type": "display_data"
    }
   ],
   "source": [
    "plt.figure(figsize=(15,8))\n",
    "\n",
    "neg = X_train[y_train.Result == 0]\n",
    "pos = X_train[y_train.Result == 1]\n",
    "\n",
    "plt.scatter(neg.iloc[:,1].values,neg.iloc[:,2], c='b', marker='o', label='Not Admitted')\n",
    "plt.scatter(pos.iloc[:,1].values,pos.iloc[:,2], c='r', marker='x', label='Admitted')\n",
    "plt.legend()\n",
    "plt.xlabel(columns[0])\n",
    "plt.ylabel(columns[1])\n",
    "plt.show()"
   ],
   "metadata": {
    "collapsed": false,
    "pycharm": {
     "name": "#%%\n"
    }
   }
  },
  {
   "cell_type": "markdown",
   "source": [
    "## Logistic Regression Hypotesis\n",
    "\n",
    "$$\\large h_{\\theta}(x) = g(\\theta_0 + \\theta_1 x_1 + \\theta_2 x_2)$$\n",
    "\n",
    "$$\\large g(z) = \\frac{1}{1+e^{-z}}$$"
   ],
   "metadata": {
    "collapsed": false,
    "pycharm": {
     "name": "#%% md\n"
    }
   }
  },
  {
   "cell_type": "code",
   "execution_count": 7,
   "outputs": [],
   "source": [
    "def sigmoid(z):\n",
    "    return 1 / (1 + np.exp(-z))"
   ],
   "metadata": {
    "collapsed": false,
    "pycharm": {
     "name": "#%%\n"
    }
   }
  },
  {
   "cell_type": "markdown",
   "source": [
    "## Logistic Regression cost Function (Binary Cross Entropy)\n",
    "\n",
    "$$ \\large J(\\theta) = - \\frac{1}{m} \\sum^{m-1}_{i=0} Loss_i$$\n",
    "$$ \\large Loss_i =\\sum_{i = 0}^{m-1} y^{(i)} log(h_{\\theta} (x^{(i)})) + (1-y^{(i)}) log(1-h_{\\theta}(x^{(i)})) $$\n",
    "\n",
    "$$ \\large J(\\theta) = - \\frac{1}{m} ((\\log(g(X\\theta)))^T y + (log(1-g(X\\theta)))^T (1-y))$$"
   ],
   "metadata": {
    "collapsed": false,
    "pycharm": {
     "name": "#%% md\n"
    }
   }
  },
  {
   "cell_type": "code",
   "execution_count": 8,
   "outputs": [],
   "source": [
    "def computeCost(theta, X, y):\n",
    "    m = X.shape[0]\n",
    "    J = -( 1 / m)* (np.log(sigmoid(X.dot(theta))).T.dot(y) + np.log(1 - sigmoid(X.dot(theta))).T.dot(1-y))\n",
    "    if np.isnan(J[0]):\n",
    "        return (np.inf)\n",
    "    return (J[0])"
   ],
   "metadata": {
    "collapsed": false,
    "pycharm": {
     "name": "#%%\n"
    }
   }
  },
  {
   "cell_type": "code",
   "execution_count": 9,
   "outputs": [
    {
     "data": {
      "text/plain": "array([0.69314718])"
     },
     "execution_count": 9,
     "metadata": {},
     "output_type": "execute_result"
    }
   ],
   "source": [
    "computeCost(np.zeros((X_train.shape[1],1)),X_train.values,y_train.values)"
   ],
   "metadata": {
    "collapsed": false,
    "pycharm": {
     "name": "#%%\n"
    }
   }
  },
  {
   "cell_type": "markdown",
   "source": [
    "## Gradient Descent"
   ],
   "metadata": {
    "collapsed": false,
    "pycharm": {
     "name": "#%% md\n"
    }
   }
  },
  {
   "cell_type": "code",
   "execution_count": 10,
   "outputs": [],
   "source": [
    "def gradientDescent(X, y, theta = np.zeros((X_train.shape[1],1)), alpha = 0.001, n_iters = 1000):\n",
    "    theta_gd = np.copy(theta)\n",
    "    m = X.shape[0]\n",
    "    J = np.zeros((n_iters,1))\n",
    "    for i in range(n_iters):\n",
    "        J[i] = computeCost(theta_gd,X,y)\n",
    "        h = sigmoid(X.dot(theta_gd))\n",
    "        theta_gd = theta_gd - (alpha/m)*X.T.dot(h -y)\n",
    "    return theta_gd,J"
   ],
   "metadata": {
    "collapsed": false,
    "pycharm": {
     "name": "#%%\n"
    }
   }
  },
  {
   "cell_type": "code",
   "execution_count": 11,
   "outputs": [],
   "source": [
    "theta_gd, J_history = gradientDescent(X_train.values,y_train.values,alpha=0.00001,n_iters=10000)"
   ],
   "metadata": {
    "collapsed": false,
    "pycharm": {
     "name": "#%%\n"
    }
   }
  },
  {
   "cell_type": "code",
   "execution_count": 12,
   "outputs": [
    {
     "data": {
      "text/plain": "<Figure size 576x360 with 1 Axes>",
      "image/png": "[encoded data removed]"
     },
     "metadata": {
      "needs_background": "light"
     },
     "output_type": "display_data"
    }
   ],
   "source": [
    "plt.figure(figsize=(8,5))\n",
    "plt.plot(np.arange(J_history.shape[0]),J_history)\n",
    "plt.show()"
   ],
   "metadata": {
    "collapsed": false,
    "pycharm": {
     "name": "#%%\n"
    }
   }
  },
  {
   "cell_type": "markdown",
   "source": [
    "## Advanced Optimization"
   ],
   "metadata": {
    "collapsed": false,
    "pycharm": {
     "name": "#%% md\n"
    }
   }
  },
  {
   "cell_type": "code",
   "execution_count": 13,
   "outputs": [],
   "source": [
    "def gradient(theta, X, y):\n",
    "    m = X.shape[0]\n",
    "    h = sigmoid(X.dot(theta.reshape(-1,1)))\n",
    "    grad = (1/m)*X.T.dot(h-y)\n",
    "    return (grad.flatten())"
   ],
   "metadata": {
    "collapsed": false,
    "pycharm": {
     "name": "#%%\n"
    }
   }
  },
  {
   "cell_type": "code",
   "execution_count": 14,
   "outputs": [
    {
     "name": "stderr",
     "output_type": "stream",
     "text": [
      "/tmp/ipykernel_6440/1976904243.py:3: RuntimeWarning: divide by zero encountered in log\n",
      "  J = -( 1 / m)* (np.log(sigmoid(X.dot(theta))).T.dot(y) + np.log(1 - sigmoid(X.dot(theta))).T.dot(1-y))\n",
      "/tmp/ipykernel_6440/1976904243.py:3: RuntimeWarning: divide by zero encountered in log\n",
      "  J = -( 1 / m)* (np.log(sigmoid(X.dot(theta))).T.dot(y) + np.log(1 - sigmoid(X.dot(theta))).T.dot(1-y))\n"
     ]
    }
   ],
   "source": [
    "from scipy.optimize import minimize\n",
    "#t = np.random.random((X_train.shape[1],1))\n",
    "t = np.zeros((X_train.shape[1],1))\n",
    "res = minimize(computeCost, t, args=(X_train.values,y_train.values), method='BFGS', jac = gradient)"
   ],
   "metadata": {
    "collapsed": false,
    "pycharm": {
     "name": "#%%\n"
    }
   }
  },
  {
   "cell_type": "code",
   "execution_count": 15,
   "outputs": [],
   "source": [
    "theta_opt = res.x.reshape(-1,1)"
   ],
   "metadata": {
    "collapsed": false,
    "pycharm": {
     "name": "#%%\n"
    }
   }
  },
  {
   "cell_type": "markdown",
   "source": [
    "## Plot Decision Boundary"
   ],
   "metadata": {
    "collapsed": false,
    "pycharm": {
     "name": "#%% md\n"
    }
   }
  },
  {
   "cell_type": "code",
   "execution_count": 16,
   "outputs": [
    {
     "data": {
      "text/plain": "<Figure size 1080x576 with 1 Axes>",
      "image/png": "[encoded data removed]"
     },
     "metadata": {
      "needs_background": "light"
     },
     "output_type": "display_data"
    }
   ],
   "source": [
    "plt.figure(figsize=(15,8))\n",
    "\n",
    "neg = X_train[y_train.Result == 0]\n",
    "pos = X_train[y_train.Result == 1]\n",
    "\n",
    "plt.scatter(neg.iloc[:,1].values,neg.iloc[:,2], c='b', marker='o', label='Not Admitted')\n",
    "plt.scatter(pos.iloc[:,1].values,pos.iloc[:,2], c='r', marker='x', label='Admitted')\n",
    "\n",
    "x1_min = X_train.iloc[:,1].min()\n",
    "x1_max = X_train.iloc[:,1].max()\n",
    "x2_min = X_train.iloc[:,2].min()\n",
    "x2_max = X_train.iloc[:,2].max()\n",
    "\n",
    "xx1,xx2 = np.meshgrid(np.linspace(x1_min,x1_max),np.linspace(x2_min,x2_max))\n",
    "\n",
    "h = np.c_[np.ones((xx1.ravel().shape[0],1)),xx1.ravel(),xx2.ravel()].dot(theta_opt)\n",
    "\n",
    "plt.contour(xx1,xx2,h.reshape(xx1.shape),[0.5],linewidths=1)\n",
    "\n",
    "plt.legend()\n",
    "plt.xlabel(columns[0])\n",
    "plt.ylabel(columns[1])\n",
    "plt.show()"
   ],
   "metadata": {
    "collapsed": false,
    "pycharm": {
     "name": "#%%\n"
    }
   }
  },
  {
   "cell_type": "code",
   "execution_count": 16,
   "outputs": [],
   "source": [],
   "metadata": {
    "collapsed": false,
    "pycharm": {
     "name": "#%%\n"
    }
   }
  }
 ],
 "metadata": {
  "kernelspec": {
   "display_name": "Python 3",
   "language": "python",
   "name": "python3"
  },
  "language_info": {
   "codemirror_mode": {
    "name": "ipython",
    "version": 2
   },
   "file_extension": ".py",
   "mimetype": "text/x-python",
   "name": "python",
   "nbconvert_exporter": "python",
   "pygments_lexer": "ipython2",
   "version": "2.7.6"
  }
 },
 "nbformat": 4,
 "nbformat_minor": 0
}