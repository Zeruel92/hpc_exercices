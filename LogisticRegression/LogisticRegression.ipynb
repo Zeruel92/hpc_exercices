{
 "cells": [
  {
   "cell_type": "markdown",
   "source": [
    "# Logistic Regression"
   ],
   "metadata": {
    "collapsed": false,
    "pycharm": {
     "name": "#%% md\n"
    }
   }
  },
  {
   "cell_type": "code",
   "execution_count": 1,
   "metadata": {
    "collapsed": true,
    "pycharm": {
     "name": "#%%\n"
    }
   },
   "outputs": [],
   "source": [
    "import numpy as np\n",
    "import pandas as pd\n",
    "from matplotlib import pyplot as plt"
   ]
  },
  {
   "cell_type": "code",
   "execution_count": 5,
   "outputs": [],
   "source": [
    "columns = ['Exam 1 Score', 'Exam 2 score', 'Result']\n",
    "dataset = pd.read_csv('./ex2data1.txt', delimiter=',', header=None, names=columns)"
   ],
   "metadata": {
    "collapsed": false,
    "pycharm": {
     "name": "#%%\n"
    }
   }
  },
  {
   "cell_type": "code",
   "execution_count": 7,
   "outputs": [],
   "source": [
    "X = dataset.loc[:, [columns[0], columns[1]]]\n",
    "y = dataset.loc[:, [columns[2]]]"
   ],
   "metadata": {
    "collapsed": false,
    "pycharm": {
     "name": "#%%\n"
    }
   }
  },
  {
   "cell_type": "markdown",
   "source": [
    "## Plot Data"
   ],
   "metadata": {
    "collapsed": false,
    "pycharm": {
     "name": "#%% md\n"
    }
   }
  },
  {
   "cell_type": "code",
   "execution_count": 28,
   "outputs": [
    {
     "data": {
      "text/plain": "<Figure size 1080x576 with 1 Axes>",
      "image/png": "[encoded data removed]"
     },
     "metadata": {
      "needs_background": "light"
     },
     "output_type": "display_data"
    }
   ],
   "source": [
    "plt.figure(figsize=(15,8))\n",
    "\n",
    "neg = X[y.Result == 0]\n",
    "pos = X[y.Result == 1]\n",
    "\n",
    "plt.scatter(neg.iloc[:,0].values,neg.iloc[:,1], c='b', marker='o', label='Not Admitted')\n",
    "plt.scatter(pos.iloc[:,0].values,pos.iloc[:,1], c='r', marker='x', label='Admitted')\n",
    "plt.legend()\n",
    "plt.xlabel(columns[0])\n",
    "plt.ylabel(columns[1])\n",
    "plt.show()"
   ],
   "metadata": {
    "collapsed": false,
    "pycharm": {
     "name": "#%%\n"
    }
   }
  },
  {
   "cell_type": "markdown",
   "source": [
    "## Logistic Regression Hypotesis\n",
    "\n",
    "$$\\large h_{\\theta}(x) = g(\\theta_0 + \\theta_1 x_1 + \\theta_2 x_2)$$\n",
    "\n",
    "$$\\large g(z) = \\frac{1}{1+e^{-z}}$$"
   ],
   "metadata": {
    "collapsed": false,
    "pycharm": {
     "name": "#%% md\n"
    }
   }
  },
  {
   "cell_type": "code",
   "execution_count": 29,
   "outputs": [],
   "source": [
    "def sigmoid(z):\n",
    "    return 1 / (1 + np.exp(-z))"
   ],
   "metadata": {
    "collapsed": false,
    "pycharm": {
     "name": "#%%\n"
    }
   }
  },
  {
   "cell_type": "markdown",
   "source": [
    "## Logistic Regression cost Function (Binary Cross Entropy)\n",
    "\n",
    "$$ \\large J(\\theta) = - \\frac{1}{m} \\sum^{m-1}_{i=0} Loss_i$$\n",
    "$$ \\large Loss_i =\\sum_{i = 0}^{m-1} y^{(i)} log(h_{\\theta} (x^{(i)})) + (1-y^{(i)}) log(1-h_{\\theta}(x^{(i)})) $$\n",
    "\n",
    "$$ \\large J(\\theta) = - \\frac{1}{m} ((\\log(g(X\\theta)))^T y + (log(1-g(X\\theta)))^T (1-y))$$"
   ],
   "metadata": {
    "collapsed": false,
    "pycharm": {
     "name": "#%% md\n"
    }
   }
  },
  {
   "cell_type": "code",
   "execution_count": 62,
   "outputs": [],
   "source": [
    "def computeCost(X,y,theta = np.zeros((X.shape[1],1))):\n",
    "    m = X.shape[0]\n",
    "    J = -( 1 / m)* (np.log(sigmoid(X.dot(theta))).T.dot(y) + np.log(1 - sigmoid(X.dot(theta))).T.dot(1-y))\n",
    "    return J"
   ],
   "metadata": {
    "collapsed": false,
    "pycharm": {
     "name": "#%%\n"
    }
   }
  },
  {
   "cell_type": "code",
   "execution_count": 51,
   "outputs": [
    {
     "data": {
      "text/plain": "0.6931471805599453"
     },
     "execution_count": 51,
     "metadata": {},
     "output_type": "execute_result"
    }
   ],
   "source": [
    "computeCost(X,y)"
   ],
   "metadata": {
    "collapsed": false,
    "pycharm": {
     "name": "#%%\n"
    }
   }
  },
  {
   "cell_type": "markdown",
   "source": [
    "## Gradient Descent"
   ],
   "metadata": {
    "collapsed": false,
    "pycharm": {
     "name": "#%% md\n"
    }
   }
  },
  {
   "cell_type": "code",
   "execution_count": 63,
   "outputs": [],
   "source": [
    "def gradientDescent(X,y, theta = np.zeros((X.shape[1],1)), alpha = 0.001, n_iters = 1000):\n",
    "    theta_gd = np.copy(theta)\n",
    "    m = X.shape[0]\n",
    "    J = np.zeros((n_iters,1))\n",
    "    for i in range(n_iters):\n",
    "        J[i] = computeCost(X,y,theta_gd)\n",
    "        h = sigmoid(X.dot(theta_gd))\n",
    "        theta_gd = theta_gd - (alpha/m)*X.T.dot(h -y)\n",
    "    return theta_gd,J"
   ],
   "metadata": {
    "collapsed": false,
    "pycharm": {
     "name": "#%%\n"
    }
   }
  },
  {
   "cell_type": "code",
   "execution_count": 67,
   "outputs": [
    {
     "data": {
      "text/plain": "(array([[0.01042527],\n        [0.00045203]]),\n array([[0.69314718],\n        [0.69826887],\n        [0.65969192],\n        [0.66159672],\n        [0.6488484 ],\n        [0.64967706],\n        [0.64310693],\n        [0.64345943],\n        [0.63953364],\n        [0.6396511 ],\n        [0.63711603],\n        [0.6371131 ],\n        [0.63539613],\n        [0.63533264],\n        [0.63413195],\n        [0.63404074],\n        [0.63318176],\n        [0.63308124],\n        [0.63245624],\n        [0.63235667],\n        [0.63189594],\n        [0.63180279],\n        [0.63145965],\n        [0.63137555],\n        [0.63111783],\n        [0.63104373],\n        [0.63084882],\n        [0.63078466],\n        [0.6306364 ],\n        [0.63058158],\n        [0.63046824],\n        [0.6304219 ],\n        [0.63033487],\n        [0.63029603],\n        [0.63022896],\n        [0.63019663],\n        [0.63014477],\n        [0.63011801],\n        [0.63007779],\n        [0.63005575],\n        [0.63002448],\n        [0.63000641],\n        [0.62998203],\n        [0.62996727],\n        [0.62994823],\n        [0.6299362 ],\n        [0.6299213 ],\n        [0.62991153],\n        [0.62989985],\n        [0.62989194],\n        [0.62988277],\n        [0.62987636],\n        [0.62986915],\n        [0.62986398],\n        [0.62985831],\n        [0.62985414],\n        [0.62984967],\n        [0.62984632],\n        [0.62984279],\n        [0.62984009],\n        [0.6298373 ],\n        [0.62983514],\n        [0.62983294],\n        [0.6298312 ],\n        [0.62982946],\n        [0.62982807],\n        [0.62982669],\n        [0.62982557],\n        [0.62982448],\n        [0.62982359],\n        [0.62982272],\n        [0.62982201],\n        [0.62982132],\n        [0.62982075],\n        [0.62982021],\n        [0.62981975],\n        [0.62981932],\n        [0.62981896],\n        [0.62981862],\n        [0.62981832],\n        [0.62981805],\n        [0.62981782],\n        [0.6298176 ],\n        [0.62981742],\n        [0.62981725],\n        [0.6298171 ],\n        [0.62981696],\n        [0.62981684],\n        [0.62981674],\n        [0.62981664],\n        [0.62981656],\n        [0.62981648],\n        [0.62981641],\n        [0.62981635],\n        [0.6298163 ],\n        [0.62981625],\n        [0.62981621],\n        [0.62981617],\n        [0.62981613],\n        [0.6298161 ],\n        [0.62981608],\n        [0.62981605],\n        [0.62981603],\n        [0.62981601],\n        [0.62981599],\n        [0.62981598],\n        [0.62981597],\n        [0.62981595],\n        [0.62981594],\n        [0.62981593],\n        [0.62981592],\n        [0.62981592],\n        [0.62981591],\n        [0.6298159 ],\n        [0.6298159 ],\n        [0.62981589],\n        [0.62981589],\n        [0.62981588],\n        [0.62981588],\n        [0.62981588],\n        [0.62981587],\n        [0.62981587],\n        [0.62981587],\n        [0.62981587],\n        [0.62981587],\n        [0.62981586],\n        [0.62981586],\n        [0.62981586],\n        [0.62981586],\n        [0.62981586],\n        [0.62981586],\n        [0.62981586],\n        [0.62981586],\n        [0.62981586],\n        [0.62981586],\n        [0.62981586],\n        [0.62981586],\n        [0.62981586],\n        [0.62981585],\n        [0.62981585],\n        [0.62981585],\n        [0.62981585],\n        [0.62981585],\n        [0.62981585],\n        [0.62981585],\n        [0.62981585],\n        [0.62981585],\n        [0.62981585],\n        [0.62981585],\n        [0.62981585],\n        [0.62981585],\n        [0.62981585],\n        [0.62981585],\n        [0.62981585],\n        [0.62981585],\n        [0.62981585],\n        [0.62981585],\n        [0.62981585],\n        [0.62981585],\n        [0.62981585],\n        [0.62981585],\n        [0.62981585],\n        [0.62981585],\n        [0.62981585],\n        [0.62981585],\n        [0.62981585],\n        [0.62981585],\n        [0.62981585],\n        [0.62981585],\n        [0.62981585],\n        [0.62981585],\n        [0.62981585],\n        [0.62981585],\n        [0.62981585],\n        [0.62981585],\n        [0.62981585],\n        [0.62981585],\n        [0.62981585],\n        [0.62981585],\n        [0.62981585],\n        [0.62981585],\n        [0.62981585],\n        [0.62981585],\n        [0.62981585],\n        [0.62981585],\n        [0.62981585],\n        [0.62981585],\n        [0.62981585],\n        [0.62981585],\n        [0.62981585],\n        [0.62981585],\n        [0.62981585],\n        [0.62981585],\n        [0.62981585],\n        [0.62981585],\n        [0.62981585],\n        [0.62981585],\n        [0.62981585],\n        [0.62981585],\n        [0.62981585],\n        [0.62981585],\n        [0.62981585],\n        [0.62981585],\n        [0.62981585],\n        [0.62981585],\n        [0.62981585],\n        [0.62981585],\n        [0.62981585],\n        [0.62981585],\n        [0.62981585],\n        [0.62981585],\n        [0.62981585],\n        [0.62981585],\n        [0.62981585],\n        [0.62981585],\n        [0.62981585],\n        [0.62981585],\n        [0.62981585],\n        [0.62981585],\n        [0.62981585],\n        [0.62981585],\n        [0.62981585],\n        [0.62981585],\n        [0.62981585],\n        [0.62981585],\n        [0.62981585],\n        [0.62981585],\n        [0.62981585],\n        [0.62981585],\n        [0.62981585],\n        [0.62981585],\n        [0.62981585],\n        [0.62981585],\n        [0.62981585],\n        [0.62981585],\n        [0.62981585],\n        [0.62981585],\n        [0.62981585],\n        [0.62981585],\n        [0.62981585],\n        [0.62981585],\n        [0.62981585],\n        [0.62981585],\n        [0.62981585],\n        [0.62981585],\n        [0.62981585],\n        [0.62981585],\n        [0.62981585],\n        [0.62981585],\n        [0.62981585],\n        [0.62981585],\n        [0.62981585],\n        [0.62981585],\n        [0.62981585],\n        [0.62981585],\n        [0.62981585],\n        [0.62981585],\n        [0.62981585],\n        [0.62981585],\n        [0.62981585],\n        [0.62981585],\n        [0.62981585],\n        [0.62981585],\n        [0.62981585],\n        [0.62981585],\n        [0.62981585],\n        [0.62981585],\n        [0.62981585],\n        [0.62981585],\n        [0.62981585],\n        [0.62981585],\n        [0.62981585],\n        [0.62981585],\n        [0.62981585],\n        [0.62981585],\n        [0.62981585],\n        [0.62981585],\n        [0.62981585],\n        [0.62981585],\n        [0.62981585],\n        [0.62981585],\n        [0.62981585],\n        [0.62981585],\n        [0.62981585],\n        [0.62981585],\n        [0.62981585],\n        [0.62981585],\n        [0.62981585],\n        [0.62981585],\n        [0.62981585],\n        [0.62981585],\n        [0.62981585],\n        [0.62981585],\n        [0.62981585],\n        [0.62981585],\n        [0.62981585],\n        [0.62981585],\n        [0.62981585],\n        [0.62981585],\n        [0.62981585],\n        [0.62981585],\n        [0.62981585],\n        [0.62981585],\n        [0.62981585],\n        [0.62981585],\n        [0.62981585],\n        [0.62981585],\n        [0.62981585],\n        [0.62981585],\n        [0.62981585],\n        [0.62981585],\n        [0.62981585],\n        [0.62981585],\n        [0.62981585],\n        [0.62981585],\n        [0.62981585],\n        [0.62981585],\n        [0.62981585],\n        [0.62981585],\n        [0.62981585],\n        [0.62981585],\n        [0.62981585],\n        [0.62981585],\n        [0.62981585],\n        [0.62981585],\n        [0.62981585],\n        [0.62981585],\n        [0.62981585],\n        [0.62981585],\n        [0.62981585],\n        [0.62981585],\n        [0.62981585],\n        [0.62981585],\n        [0.62981585],\n        [0.62981585],\n        [0.62981585],\n        [0.62981585],\n        [0.62981585],\n        [0.62981585],\n        [0.62981585],\n        [0.62981585],\n        [0.62981585],\n        [0.62981585],\n        [0.62981585],\n        [0.62981585],\n        [0.62981585],\n        [0.62981585],\n        [0.62981585],\n        [0.62981585],\n        [0.62981585],\n        [0.62981585],\n        [0.62981585],\n        [0.62981585],\n        [0.62981585],\n        [0.62981585],\n        [0.62981585],\n        [0.62981585],\n        [0.62981585],\n        [0.62981585],\n        [0.62981585],\n        [0.62981585],\n        [0.62981585],\n        [0.62981585],\n        [0.62981585],\n        [0.62981585],\n        [0.62981585],\n        [0.62981585],\n        [0.62981585],\n        [0.62981585],\n        [0.62981585],\n        [0.62981585],\n        [0.62981585],\n        [0.62981585],\n        [0.62981585],\n        [0.62981585],\n        [0.62981585],\n        [0.62981585],\n        [0.62981585],\n        [0.62981585],\n        [0.62981585],\n        [0.62981585],\n        [0.62981585],\n        [0.62981585],\n        [0.62981585],\n        [0.62981585],\n        [0.62981585],\n        [0.62981585],\n        [0.62981585],\n        [0.62981585],\n        [0.62981585],\n        [0.62981585],\n        [0.62981585],\n        [0.62981585],\n        [0.62981585],\n        [0.62981585],\n        [0.62981585],\n        [0.62981585],\n        [0.62981585],\n        [0.62981585],\n        [0.62981585],\n        [0.62981585],\n        [0.62981585],\n        [0.62981585],\n        [0.62981585],\n        [0.62981585],\n        [0.62981585],\n        [0.62981585],\n        [0.62981585],\n        [0.62981585],\n        [0.62981585],\n        [0.62981585],\n        [0.62981585],\n        [0.62981585],\n        [0.62981585],\n        [0.62981585],\n        [0.62981585],\n        [0.62981585],\n        [0.62981585],\n        [0.62981585],\n        [0.62981585],\n        [0.62981585],\n        [0.62981585],\n        [0.62981585],\n        [0.62981585],\n        [0.62981585],\n        [0.62981585],\n        [0.62981585],\n        [0.62981585],\n        [0.62981585],\n        [0.62981585],\n        [0.62981585],\n        [0.62981585],\n        [0.62981585],\n        [0.62981585],\n        [0.62981585],\n        [0.62981585],\n        [0.62981585],\n        [0.62981585],\n        [0.62981585],\n        [0.62981585],\n        [0.62981585],\n        [0.62981585],\n        [0.62981585],\n        [0.62981585],\n        [0.62981585],\n        [0.62981585],\n        [0.62981585],\n        [0.62981585],\n        [0.62981585],\n        [0.62981585],\n        [0.62981585],\n        [0.62981585],\n        [0.62981585],\n        [0.62981585],\n        [0.62981585],\n        [0.62981585],\n        [0.62981585],\n        [0.62981585],\n        [0.62981585],\n        [0.62981585],\n        [0.62981585],\n        [0.62981585],\n        [0.62981585],\n        [0.62981585],\n        [0.62981585],\n        [0.62981585],\n        [0.62981585],\n        [0.62981585],\n        [0.62981585],\n        [0.62981585],\n        [0.62981585],\n        [0.62981585],\n        [0.62981585],\n        [0.62981585],\n        [0.62981585],\n        [0.62981585],\n        [0.62981585],\n        [0.62981585],\n        [0.62981585],\n        [0.62981585],\n        [0.62981585],\n        [0.62981585],\n        [0.62981585],\n        [0.62981585],\n        [0.62981585],\n        [0.62981585],\n        [0.62981585],\n        [0.62981585],\n        [0.62981585],\n        [0.62981585],\n        [0.62981585],\n        [0.62981585],\n        [0.62981585],\n        [0.62981585],\n        [0.62981585],\n        [0.62981585],\n        [0.62981585],\n        [0.62981585],\n        [0.62981585],\n        [0.62981585],\n        [0.62981585],\n        [0.62981585],\n        [0.62981585],\n        [0.62981585],\n        [0.62981585],\n        [0.62981585],\n        [0.62981585],\n        [0.62981585],\n        [0.62981585],\n        [0.62981585],\n        [0.62981585],\n        [0.62981585],\n        [0.62981585],\n        [0.62981585],\n        [0.62981585],\n        [0.62981585],\n        [0.62981585],\n        [0.62981585],\n        [0.62981585],\n        [0.62981585],\n        [0.62981585],\n        [0.62981585],\n        [0.62981585],\n        [0.62981585],\n        [0.62981585],\n        [0.62981585],\n        [0.62981585],\n        [0.62981585],\n        [0.62981585],\n        [0.62981585],\n        [0.62981585],\n        [0.62981585],\n        [0.62981585],\n        [0.62981585],\n        [0.62981585],\n        [0.62981585],\n        [0.62981585],\n        [0.62981585],\n        [0.62981585],\n        [0.62981585],\n        [0.62981585],\n        [0.62981585],\n        [0.62981585],\n        [0.62981585],\n        [0.62981585],\n        [0.62981585],\n        [0.62981585],\n        [0.62981585],\n        [0.62981585],\n        [0.62981585],\n        [0.62981585],\n        [0.62981585],\n        [0.62981585],\n        [0.62981585],\n        [0.62981585],\n        [0.62981585],\n        [0.62981585],\n        [0.62981585],\n        [0.62981585],\n        [0.62981585],\n        [0.62981585],\n        [0.62981585],\n        [0.62981585],\n        [0.62981585],\n        [0.62981585],\n        [0.62981585],\n        [0.62981585],\n        [0.62981585],\n        [0.62981585],\n        [0.62981585],\n        [0.62981585],\n        [0.62981585],\n        [0.62981585],\n        [0.62981585],\n        [0.62981585],\n        [0.62981585],\n        [0.62981585],\n        [0.62981585],\n        [0.62981585],\n        [0.62981585],\n        [0.62981585],\n        [0.62981585],\n        [0.62981585],\n        [0.62981585],\n        [0.62981585],\n        [0.62981585],\n        [0.62981585],\n        [0.62981585],\n        [0.62981585],\n        [0.62981585],\n        [0.62981585],\n        [0.62981585],\n        [0.62981585],\n        [0.62981585],\n        [0.62981585],\n        [0.62981585],\n        [0.62981585],\n        [0.62981585],\n        [0.62981585],\n        [0.62981585],\n        [0.62981585],\n        [0.62981585],\n        [0.62981585],\n        [0.62981585],\n        [0.62981585],\n        [0.62981585],\n        [0.62981585],\n        [0.62981585],\n        [0.62981585],\n        [0.62981585],\n        [0.62981585],\n        [0.62981585],\n        [0.62981585],\n        [0.62981585],\n        [0.62981585],\n        [0.62981585],\n        [0.62981585],\n        [0.62981585],\n        [0.62981585],\n        [0.62981585],\n        [0.62981585],\n        [0.62981585],\n        [0.62981585],\n        [0.62981585],\n        [0.62981585],\n        [0.62981585],\n        [0.62981585],\n        [0.62981585],\n        [0.62981585],\n        [0.62981585],\n        [0.62981585],\n        [0.62981585],\n        [0.62981585],\n        [0.62981585],\n        [0.62981585],\n        [0.62981585],\n        [0.62981585],\n        [0.62981585],\n        [0.62981585],\n        [0.62981585],\n        [0.62981585],\n        [0.62981585],\n        [0.62981585],\n        [0.62981585],\n        [0.62981585],\n        [0.62981585],\n        [0.62981585],\n        [0.62981585],\n        [0.62981585],\n        [0.62981585],\n        [0.62981585],\n        [0.62981585],\n        [0.62981585],\n        [0.62981585],\n        [0.62981585],\n        [0.62981585],\n        [0.62981585],\n        [0.62981585],\n        [0.62981585],\n        [0.62981585],\n        [0.62981585],\n        [0.62981585],\n        [0.62981585],\n        [0.62981585],\n        [0.62981585],\n        [0.62981585],\n        [0.62981585],\n        [0.62981585],\n        [0.62981585],\n        [0.62981585],\n        [0.62981585],\n        [0.62981585],\n        [0.62981585],\n        [0.62981585],\n        [0.62981585],\n        [0.62981585],\n        [0.62981585],\n        [0.62981585],\n        [0.62981585],\n        [0.62981585],\n        [0.62981585],\n        [0.62981585],\n        [0.62981585],\n        [0.62981585],\n        [0.62981585],\n        [0.62981585],\n        [0.62981585],\n        [0.62981585],\n        [0.62981585],\n        [0.62981585],\n        [0.62981585],\n        [0.62981585],\n        [0.62981585],\n        [0.62981585],\n        [0.62981585],\n        [0.62981585],\n        [0.62981585],\n        [0.62981585],\n        [0.62981585],\n        [0.62981585],\n        [0.62981585],\n        [0.62981585],\n        [0.62981585],\n        [0.62981585],\n        [0.62981585],\n        [0.62981585],\n        [0.62981585],\n        [0.62981585],\n        [0.62981585],\n        [0.62981585],\n        [0.62981585],\n        [0.62981585],\n        [0.62981585],\n        [0.62981585],\n        [0.62981585],\n        [0.62981585],\n        [0.62981585],\n        [0.62981585],\n        [0.62981585],\n        [0.62981585],\n        [0.62981585],\n        [0.62981585],\n        [0.62981585],\n        [0.62981585],\n        [0.62981585],\n        [0.62981585],\n        [0.62981585],\n        [0.62981585],\n        [0.62981585],\n        [0.62981585],\n        [0.62981585],\n        [0.62981585],\n        [0.62981585],\n        [0.62981585],\n        [0.62981585],\n        [0.62981585],\n        [0.62981585],\n        [0.62981585],\n        [0.62981585],\n        [0.62981585],\n        [0.62981585],\n        [0.62981585],\n        [0.62981585],\n        [0.62981585],\n        [0.62981585],\n        [0.62981585],\n        [0.62981585],\n        [0.62981585],\n        [0.62981585],\n        [0.62981585],\n        [0.62981585],\n        [0.62981585],\n        [0.62981585],\n        [0.62981585],\n        [0.62981585],\n        [0.62981585],\n        [0.62981585],\n        [0.62981585],\n        [0.62981585],\n        [0.62981585],\n        [0.62981585],\n        [0.62981585],\n        [0.62981585],\n        [0.62981585],\n        [0.62981585],\n        [0.62981585],\n        [0.62981585],\n        [0.62981585],\n        [0.62981585],\n        [0.62981585],\n        [0.62981585],\n        [0.62981585],\n        [0.62981585],\n        [0.62981585],\n        [0.62981585],\n        [0.62981585],\n        [0.62981585],\n        [0.62981585],\n        [0.62981585],\n        [0.62981585],\n        [0.62981585],\n        [0.62981585],\n        [0.62981585],\n        [0.62981585],\n        [0.62981585],\n        [0.62981585],\n        [0.62981585],\n        [0.62981585],\n        [0.62981585],\n        [0.62981585],\n        [0.62981585],\n        [0.62981585],\n        [0.62981585],\n        [0.62981585],\n        [0.62981585],\n        [0.62981585],\n        [0.62981585],\n        [0.62981585],\n        [0.62981585],\n        [0.62981585],\n        [0.62981585],\n        [0.62981585],\n        [0.62981585],\n        [0.62981585],\n        [0.62981585],\n        [0.62981585],\n        [0.62981585],\n        [0.62981585],\n        [0.62981585],\n        [0.62981585],\n        [0.62981585],\n        [0.62981585],\n        [0.62981585],\n        [0.62981585],\n        [0.62981585],\n        [0.62981585],\n        [0.62981585],\n        [0.62981585],\n        [0.62981585],\n        [0.62981585],\n        [0.62981585],\n        [0.62981585],\n        [0.62981585],\n        [0.62981585],\n        [0.62981585],\n        [0.62981585],\n        [0.62981585],\n        [0.62981585],\n        [0.62981585],\n        [0.62981585],\n        [0.62981585],\n        [0.62981585],\n        [0.62981585],\n        [0.62981585],\n        [0.62981585],\n        [0.62981585],\n        [0.62981585],\n        [0.62981585],\n        [0.62981585],\n        [0.62981585],\n        [0.62981585],\n        [0.62981585],\n        [0.62981585],\n        [0.62981585],\n        [0.62981585],\n        [0.62981585],\n        [0.62981585],\n        [0.62981585],\n        [0.62981585],\n        [0.62981585],\n        [0.62981585],\n        [0.62981585],\n        [0.62981585],\n        [0.62981585],\n        [0.62981585],\n        [0.62981585],\n        [0.62981585],\n        [0.62981585],\n        [0.62981585],\n        [0.62981585],\n        [0.62981585],\n        [0.62981585],\n        [0.62981585],\n        [0.62981585],\n        [0.62981585],\n        [0.62981585],\n        [0.62981585],\n        [0.62981585],\n        [0.62981585],\n        [0.62981585],\n        [0.62981585],\n        [0.62981585],\n        [0.62981585],\n        [0.62981585],\n        [0.62981585],\n        [0.62981585],\n        [0.62981585],\n        [0.62981585],\n        [0.62981585],\n        [0.62981585],\n        [0.62981585],\n        [0.62981585],\n        [0.62981585],\n        [0.62981585],\n        [0.62981585],\n        [0.62981585],\n        [0.62981585],\n        [0.62981585],\n        [0.62981585],\n        [0.62981585],\n        [0.62981585],\n        [0.62981585],\n        [0.62981585],\n        [0.62981585],\n        [0.62981585],\n        [0.62981585],\n        [0.62981585],\n        [0.62981585],\n        [0.62981585],\n        [0.62981585],\n        [0.62981585],\n        [0.62981585],\n        [0.62981585],\n        [0.62981585],\n        [0.62981585],\n        [0.62981585],\n        [0.62981585],\n        [0.62981585],\n        [0.62981585],\n        [0.62981585],\n        [0.62981585],\n        [0.62981585],\n        [0.62981585],\n        [0.62981585],\n        [0.62981585],\n        [0.62981585],\n        [0.62981585],\n        [0.62981585],\n        [0.62981585],\n        [0.62981585],\n        [0.62981585],\n        [0.62981585],\n        [0.62981585],\n        [0.62981585],\n        [0.62981585],\n        [0.62981585],\n        [0.62981585],\n        [0.62981585],\n        [0.62981585],\n        [0.62981585],\n        [0.62981585],\n        [0.62981585],\n        [0.62981585],\n        [0.62981585],\n        [0.62981585],\n        [0.62981585],\n        [0.62981585],\n        [0.62981585],\n        [0.62981585],\n        [0.62981585],\n        [0.62981585],\n        [0.62981585],\n        [0.62981585],\n        [0.62981585],\n        [0.62981585],\n        [0.62981585],\n        [0.62981585],\n        [0.62981585],\n        [0.62981585],\n        [0.62981585],\n        [0.62981585],\n        [0.62981585],\n        [0.62981585],\n        [0.62981585],\n        [0.62981585],\n        [0.62981585],\n        [0.62981585],\n        [0.62981585],\n        [0.62981585],\n        [0.62981585],\n        [0.62981585],\n        [0.62981585],\n        [0.62981585],\n        [0.62981585],\n        [0.62981585],\n        [0.62981585],\n        [0.62981585],\n        [0.62981585],\n        [0.62981585],\n        [0.62981585],\n        [0.62981585],\n        [0.62981585],\n        [0.62981585],\n        [0.62981585],\n        [0.62981585],\n        [0.62981585],\n        [0.62981585],\n        [0.62981585],\n        [0.62981585],\n        [0.62981585],\n        [0.62981585],\n        [0.62981585],\n        [0.62981585],\n        [0.62981585],\n        [0.62981585],\n        [0.62981585],\n        [0.62981585],\n        [0.62981585],\n        [0.62981585],\n        [0.62981585],\n        [0.62981585],\n        [0.62981585],\n        [0.62981585],\n        [0.62981585],\n        [0.62981585],\n        [0.62981585],\n        [0.62981585],\n        [0.62981585],\n        [0.62981585],\n        [0.62981585]]))"
     },
     "execution_count": 67,
     "metadata": {},
     "output_type": "execute_result"
    }
   ],
   "source": [
    "gradientDescent(X.values,y.values)"
   ],
   "metadata": {
    "collapsed": false,
    "pycharm": {
     "name": "#%%\n"
    }
   }
  }
 ],
 "metadata": {
  "kernelspec": {
   "display_name": "Python 3",
   "language": "python",
   "name": "python3"
  },
  "language_info": {
   "codemirror_mode": {
    "name": "ipython",
    "version": 2
   },
   "file_extension": ".py",
   "mimetype": "text/x-python",
   "name": "python",
   "nbconvert_exporter": "python",
   "pygments_lexer": "ipython2",
   "version": "2.7.6"
  }
 },
 "nbformat": 4,
 "nbformat_minor": 0
}