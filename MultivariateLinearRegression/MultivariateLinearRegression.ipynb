{
 "cells": [
  {
   "cell_type": "markdown",
   "metadata": {
    "collapsed": true,
    "pycharm": {
     "name": "#%% md\n"
    }
   },
   "source": [
    "# Linear Regression Multivariate"
   ]
  },
  {
   "cell_type": "code",
   "execution_count": 1,
   "outputs": [],
   "source": [
    "import numpy as np\n",
    "import pandas as pd\n",
    "from matplotlib import pyplot as plt\n",
    "import time\n",
    "from sys import stdout"
   ],
   "metadata": {
    "collapsed": false,
    "pycharm": {
     "name": "#%%\n"
    }
   }
  },
  {
   "cell_type": "markdown",
   "source": [
    "## Read dataset"
   ],
   "metadata": {
    "collapsed": false,
    "pycharm": {
     "name": "#%% md\n"
    }
   }
  },
  {
   "cell_type": "code",
   "execution_count": 2,
   "outputs": [
    {
     "data": {
      "text/plain": "Index(['Size of the house (in square feet)', 'Number of bedrooms',\n       'Price of the house'],\n      dtype='object')"
     },
     "execution_count": 2,
     "metadata": {},
     "output_type": "execute_result"
    }
   ],
   "source": [
    "dataset = pd.read_csv(\"./ex1data2.txt\", delimiter=',', header=0, dtype=np.float32)\n",
    "dataset.columns"
   ],
   "metadata": {
    "collapsed": false,
    "pycharm": {
     "name": "#%%\n"
    }
   }
  },
  {
   "cell_type": "markdown",
   "source": [
    "## Plot Dataset"
   ],
   "metadata": {
    "collapsed": false
   }
  },
  {
   "cell_type": "code",
   "execution_count": 3,
   "outputs": [
    {
     "data": {
      "text/plain": "    Size of the house (in square feet)\n0                               2104.0\n1                               1600.0\n2                               2400.0\n3                               1416.0\n4                               3000.0\n5                               1985.0\n6                               1534.0\n7                               1427.0\n8                               1380.0\n9                               1494.0\n10                              1940.0\n11                              2000.0\n12                              1890.0\n13                              4478.0\n14                              1268.0\n15                              2300.0\n16                              1320.0\n17                              1236.0\n18                              2609.0\n19                              3031.0\n20                              1767.0\n21                              1888.0\n22                              1604.0\n23                              1962.0\n24                              3890.0\n25                              1100.0\n26                              1458.0\n27                              2526.0\n28                              2200.0\n29                              2637.0\n30                              1839.0\n31                              1000.0\n32                              2040.0\n33                              3137.0\n34                              1811.0\n35                              1437.0\n36                              1239.0\n37                              2132.0\n38                              4215.0\n39                              2162.0\n40                              1664.0\n41                              2238.0\n42                              2567.0\n43                              1200.0\n44                               852.0\n45                              1852.0\n46                              1203.0",
      "text/html": "<div>\n<style scoped>\n    .dataframe tbody tr th:only-of-type {\n        vertical-align: middle;\n    }\n\n    .dataframe tbody tr th {\n        vertical-align: top;\n    }\n\n    .dataframe thead th {\n        text-align: right;\n    }\n</style>\n<table border=\"1\" class=\"dataframe\">\n  <thead>\n    <tr style=\"text-align: right;\">\n      <th></th>\n      <th>Size of the house (in square feet)</th>\n    </tr>\n  </thead>\n  <tbody>\n    <tr>\n      <th>0</th>\n      <td>2104.0</td>\n    </tr>\n    <tr>\n      <th>1</th>\n      <td>1600.0</td>\n    </tr>\n    <tr>\n      <th>2</th>\n      <td>2400.0</td>\n    </tr>\n    <tr>\n      <th>3</th>\n      <td>1416.0</td>\n    </tr>\n    <tr>\n      <th>4</th>\n      <td>3000.0</td>\n    </tr>\n    <tr>\n      <th>5</th>\n      <td>1985.0</td>\n    </tr>\n    <tr>\n      <th>6</th>\n      <td>1534.0</td>\n    </tr>\n    <tr>\n      <th>7</th>\n      <td>1427.0</td>\n    </tr>\n    <tr>\n      <th>8</th>\n      <td>1380.0</td>\n    </tr>\n    <tr>\n      <th>9</th>\n      <td>1494.0</td>\n    </tr>\n    <tr>\n      <th>10</th>\n      <td>1940.0</td>\n    </tr>\n    <tr>\n      <th>11</th>\n      <td>2000.0</td>\n    </tr>\n    <tr>\n      <th>12</th>\n      <td>1890.0</td>\n    </tr>\n    <tr>\n      <th>13</th>\n      <td>4478.0</td>\n    </tr>\n    <tr>\n      <th>14</th>\n      <td>1268.0</td>\n    </tr>\n    <tr>\n      <th>15</th>\n      <td>2300.0</td>\n    </tr>\n    <tr>\n      <th>16</th>\n      <td>1320.0</td>\n    </tr>\n    <tr>\n      <th>17</th>\n      <td>1236.0</td>\n    </tr>\n    <tr>\n      <th>18</th>\n      <td>2609.0</td>\n    </tr>\n    <tr>\n      <th>19</th>\n      <td>3031.0</td>\n    </tr>\n    <tr>\n      <th>20</th>\n      <td>1767.0</td>\n    </tr>\n    <tr>\n      <th>21</th>\n      <td>1888.0</td>\n    </tr>\n    <tr>\n      <th>22</th>\n      <td>1604.0</td>\n    </tr>\n    <tr>\n      <th>23</th>\n      <td>1962.0</td>\n    </tr>\n    <tr>\n      <th>24</th>\n      <td>3890.0</td>\n    </tr>\n    <tr>\n      <th>25</th>\n      <td>1100.0</td>\n    </tr>\n    <tr>\n      <th>26</th>\n      <td>1458.0</td>\n    </tr>\n    <tr>\n      <th>27</th>\n      <td>2526.0</td>\n    </tr>\n    <tr>\n      <th>28</th>\n      <td>2200.0</td>\n    </tr>\n    <tr>\n      <th>29</th>\n      <td>2637.0</td>\n    </tr>\n    <tr>\n      <th>30</th>\n      <td>1839.0</td>\n    </tr>\n    <tr>\n      <th>31</th>\n      <td>1000.0</td>\n    </tr>\n    <tr>\n      <th>32</th>\n      <td>2040.0</td>\n    </tr>\n    <tr>\n      <th>33</th>\n      <td>3137.0</td>\n    </tr>\n    <tr>\n      <th>34</th>\n      <td>1811.0</td>\n    </tr>\n    <tr>\n      <th>35</th>\n      <td>1437.0</td>\n    </tr>\n    <tr>\n      <th>36</th>\n      <td>1239.0</td>\n    </tr>\n    <tr>\n      <th>37</th>\n      <td>2132.0</td>\n    </tr>\n    <tr>\n      <th>38</th>\n      <td>4215.0</td>\n    </tr>\n    <tr>\n      <th>39</th>\n      <td>2162.0</td>\n    </tr>\n    <tr>\n      <th>40</th>\n      <td>1664.0</td>\n    </tr>\n    <tr>\n      <th>41</th>\n      <td>2238.0</td>\n    </tr>\n    <tr>\n      <th>42</th>\n      <td>2567.0</td>\n    </tr>\n    <tr>\n      <th>43</th>\n      <td>1200.0</td>\n    </tr>\n    <tr>\n      <th>44</th>\n      <td>852.0</td>\n    </tr>\n    <tr>\n      <th>45</th>\n      <td>1852.0</td>\n    </tr>\n    <tr>\n      <th>46</th>\n      <td>1203.0</td>\n    </tr>\n  </tbody>\n</table>\n</div>"
     },
     "execution_count": 3,
     "metadata": {},
     "output_type": "execute_result"
    }
   ],
   "source": [
    "dataset.loc[:,[\"Size of the house (in square feet)\"]]\n",
    "dataset.iloc[:,[0]]"
   ],
   "metadata": {
    "collapsed": false,
    "pycharm": {
     "name": "#%%\n"
    }
   }
  },
  {
   "cell_type": "code",
   "execution_count": 4,
   "outputs": [
    {
     "data": {
      "text/plain": "Text(0, 0.5, 'Price of the house')"
     },
     "execution_count": 4,
     "metadata": {},
     "output_type": "execute_result"
    },
    {
     "data": {
      "text/plain": "<Figure size 1080x432 with 2 Axes>",
      "image/png": "[encoded data removed]"
     },
     "metadata": {
      "needs_background": "light"
     },
     "output_type": "display_data"
    }
   ],
   "source": [
    "fig = plt.figure(figsize=(15,6))\n",
    "ax1 = fig.add_subplot(121)\n",
    "ax2 = fig.add_subplot(122)\n",
    "\n",
    "ax1.scatter(dataset[\"Size of the house (in square feet)\"],dataset[\"Price of the house\"])\n",
    "ax1.set_xlabel(\"Size of the house (in square feet)\")\n",
    "ax1.set_ylabel(\"Price of the house\")\n",
    "\n",
    "ax2.scatter(dataset[\"Number of bedrooms\"],dataset[\"Price of the house\"])\n",
    "ax2.set_xlabel(\"Number of bedrooms\")\n",
    "ax2.set_ylabel(\"Price of the house\")"
   ],
   "metadata": {
    "collapsed": false,
    "pycharm": {
     "name": "#%%\n"
    }
   }
  },
  {
   "cell_type": "markdown",
   "source": [
    "## Design Matrix for Supervised Learning"
   ],
   "metadata": {
    "collapsed": false,
    "pycharm": {
     "name": "#%% md\n"
    }
   }
  },
  {
   "cell_type": "code",
   "execution_count": 5,
   "outputs": [],
   "source": [
    "X = dataset.iloc[:,[0,1]].values\n",
    "y = dataset.iloc[:,[-1]].values"
   ],
   "metadata": {
    "collapsed": false,
    "pycharm": {
     "name": "#%%\n"
    }
   }
  },
  {
   "cell_type": "markdown",
   "source": [
    "## Feature Scaling"
   ],
   "metadata": {
    "collapsed": false
   }
  },
  {
   "cell_type": "markdown",
   "source": [
    "$$\\large z_j^{(i)} = \\frac{x_j^{(i)} - \\mu_j}{\\sigma_j}$$\n",
    "\n",
    "$$\\large z_j^{(i)} = \\frac{x_j^{(i)} - \\mu_j}{max_j - min_j}$$"
   ],
   "metadata": {
    "collapsed": false,
    "pycharm": {
     "name": "#%% md\n"
    }
   }
  },
  {
   "cell_type": "code",
   "source": [
    "def featureScaling(X):\n",
    "    Z = np.copy(X)\n",
    "    mu = np.mean(Z,axis=0)\n",
    "    std = np.std(Z,axis=0)\n",
    "    Z = (Z - mu)/std\n",
    "    return Z"
   ],
   "metadata": {
    "collapsed": false,
    "pycharm": {
     "name": "#%%\n"
    }
   },
   "execution_count": 6,
   "outputs": []
  },
  {
   "cell_type": "code",
   "execution_count": 7,
   "outputs": [],
   "source": [
    "Z = featureScaling(X)\n",
    "X_scaled = np.c_[np.ones(Z.shape[0]),Z] # add intercept column"
   ],
   "metadata": {
    "collapsed": false,
    "pycharm": {
     "name": "#%%\n"
    }
   }
  },
  {
   "cell_type": "markdown",
   "source": [
    "## Defining Cost Functions"
   ],
   "metadata": {
    "collapsed": false
   }
  },
  {
   "cell_type": "code",
   "execution_count": 8,
   "outputs": [],
   "source": [
    "def computeCostLoopBase(X, y, theta = np.zeros((X_scaled.shape[1],1))):\n",
    "    m = X.shape[0]\n",
    "    J = 0\n",
    "\n",
    "    elapsed_time = -time.time()\n",
    "\n",
    "    for i in range(m):\n",
    "        h = 0\n",
    "        for k in range(X.shape[1]):\n",
    "            h += (theta[k]*X[i][k])\n",
    "        J += ( h - y[i]) ** 2 # individual loss of i-th element\n",
    "\n",
    "    J /= 2*m\n",
    "\n",
    "    elapsed_time += time.time()\n",
    "    elapsed_time_ms = np.round(elapsed_time*1000,3)\n",
    "\n",
    "    return J, elapsed_time_ms"
   ],
   "metadata": {
    "collapsed": false,
    "pycharm": {
     "name": "#%%\n"
    }
   }
  },
  {
   "cell_type": "code",
   "execution_count": 9,
   "outputs": [],
   "source": [
    "def computeCostVectorized(X, y, theta = np.zeros((X_scaled.shape[1],1))):\n",
    "    J = 0\n",
    "    m = X.shape[0]\n",
    "    elapsed_time = -time.time()\n",
    "    J = 1/(2*m) * ((X.dot(theta) - y).T.dot(X.dot(theta) - y))\n",
    "    elapsed_time += time.time()\n",
    "    elapsed_time_ms = np.round(elapsed_time*1000,3)\n",
    "    return J,elapsed_time_ms"
   ],
   "metadata": {
    "collapsed": false,
    "pycharm": {
     "name": "#%%\n"
    }
   }
  },
  {
   "cell_type": "code",
   "source": [
    "J_lb,etime_lb = computeCostLoopBase(X_scaled,y)\n",
    "print(J_lb)\n",
    "print(etime_lb)"
   ],
   "metadata": {
    "collapsed": false,
    "pycharm": {
     "name": "#%%\n"
    }
   },
   "execution_count": 10,
   "outputs": [
    {
     "name": "stdout",
     "output_type": "stream",
     "text": [
      "[6.55915481e+10]\n",
      "0.942\n"
     ]
    }
   ]
  },
  {
   "cell_type": "code",
   "execution_count": 11,
   "outputs": [
    {
     "name": "stdout",
     "output_type": "stream",
     "text": [
      "[[6.55915481e+10]]\n",
      "0.154\n"
     ]
    }
   ],
   "source": [
    "J_v, etime_v = computeCostVectorized(X_scaled,y)\n",
    "print(J_v)\n",
    "print(etime_v)"
   ],
   "metadata": {
    "collapsed": false,
    "pycharm": {
     "name": "#%%\n"
    }
   }
  },
  {
   "cell_type": "markdown",
   "source": [
    "## Fitting model"
   ],
   "metadata": {
    "collapsed": false
   }
  },
  {
   "cell_type": "code",
   "execution_count": 12,
   "outputs": [],
   "source": [
    "def gradientDescentLoop(X, y, theta = np.zeros((X_scaled.shape[1],1)), alpha = 0.001, n_iters = 1000, early = False, epsilon = 0.000001):\n",
    "    m = X.shape[0]\n",
    "    n = X.shape[1]\n",
    "    J = np.zeros((n_iters,1))\n",
    "    theta_history = []\n",
    "    theta_gd = np.copy(theta)\n",
    "\n",
    "    theta_history.append(theta)\n",
    "\n",
    "    elapsed_time = -time.time()\n",
    "    for iter in range(n_iters):\n",
    "        prev = J[iter -1]\n",
    "        J[iter],_= computeCostLoopBase(X,y,theta_gd)\n",
    "        #stdout.write(\"\\rIteration {}/{} Cost: {} Loss: {}\".format(iter,n_iters,J[iter], prev-J[iter]))\n",
    "\n",
    "        h = np.zeros((m,1))\n",
    "        partial_sum = np.zeros((n,1))\n",
    "        for i in range(m):\n",
    "            for j in range(n):\n",
    "                h[i] += theta_gd[j]*X[i][j]\n",
    "            for j in range(n):\n",
    "                partial_sum[j] += (h[i] - y[i])*X[i][j]\n",
    "        for j in range(n):\n",
    "            theta_gd[j] = theta_gd[j] - ((alpha/m)* partial_sum[j])\n",
    "\n",
    "        theta_history.append(np.copy(theta_gd))\n",
    "\n",
    "        if early:\n",
    "            if (iter != 0) and (J[iter -1 ] - J[iter] < epsilon):\n",
    "                elapsed_time += time.time()\n",
    "                elapsed_time = np.round(elapsed_time*1000,3)\n",
    "                #stdout.write(\"\\n\")\n",
    "                return theta_gd,J[J!=0],elapsed_time,theta_history\n",
    "\n",
    "    elapsed_time += time.time()\n",
    "    elapsed_time = np.round(elapsed_time*1000,3)\n",
    "    #stdout.write(\"\\n\")\n",
    "    return theta_gd,J,elapsed_time,theta_history"
   ],
   "metadata": {
    "collapsed": false,
    "pycharm": {
     "name": "#%%\n"
    }
   }
  },
  {
   "cell_type": "code",
   "execution_count": 13,
   "outputs": [
    {
     "name": "stdout",
     "output_type": "stream",
     "text": [
      "Time: 28627.402ms\n",
      "Theta0: [340412.66785091] Theta1: [109447.79936733]\n",
      "Cost: [[6.55915481e+10]\n",
      " [6.52019829e+10]\n",
      " [6.48148674e+10]\n",
      " ...\n",
      " [2.04328004e+09]\n",
      " [2.04328004e+09]\n",
      " [2.04328004e+09]]\n"
     ]
    }
   ],
   "source": [
    "theta,J_history_loop,etime_gd_loop, theta_history_loop = gradientDescentLoop(X_scaled,y,alpha=0.003, n_iters=20000)\n",
    "print(\"Time: {}ms\".format(etime_gd_loop))\n",
    "print(\"Theta0: {} Theta1: {}\".format(theta[0],theta[1]))\n",
    "print(\"Cost: {}\".format(J_history_loop))"
   ],
   "metadata": {
    "collapsed": false,
    "pycharm": {
     "name": "#%%\n"
    }
   }
  },
  {
   "cell_type": "code",
   "execution_count": 14,
   "outputs": [],
   "source": [
    "def gradientDescentVectorized(X, y, theta = np.zeros((X_scaled.shape[1],1)), alpha = 0.001, n_iters = 1000, early = False, epsilon = 0.000001):\n",
    "    m = X.shape[0]\n",
    "    n = X.shape[1]\n",
    "    J = np.zeros((n_iters,1))\n",
    "    theta_history = []\n",
    "    theta_gd = np.copy(theta)\n",
    "\n",
    "    theta_history.append(theta)\n",
    "\n",
    "    elapsed_time = -time.time()\n",
    "    for iter in range(n_iters):\n",
    "        J[iter],_= computeCostVectorized(X,y,theta_gd)\n",
    "\n",
    "        theta_gd = theta_gd - (alpha/m) * X.T.dot(X.dot(theta_gd) -y)\n",
    "\n",
    "        theta_history.append(np.copy(theta_gd))\n",
    "\n",
    "        if early:\n",
    "            if (iter != 0) and (J[iter -1 ] - J[iter] < epsilon):\n",
    "                elapsed_time += time.time()\n",
    "                elapsed_time = np.round(elapsed_time*1000,3)\n",
    "                #stdout.write(\"\\n\")\n",
    "                return theta_gd,J[J!=0],elapsed_time,theta_history\n",
    "\n",
    "    elapsed_time += time.time()\n",
    "    elapsed_time = np.round(elapsed_time*1000,3)\n",
    "    #stdout.write(\"\\n\")\n",
    "    return theta_gd,J,elapsed_time,theta_history"
   ],
   "metadata": {
    "collapsed": false,
    "pycharm": {
     "name": "#%%\n"
    }
   }
  },
  {
   "cell_type": "code",
   "execution_count": 16,
   "outputs": [
    {
     "name": "stdout",
     "output_type": "stream",
     "text": [
      "Time Vectorized: 4192.488ms  / Time Loop: 28627.402ms\n",
      "Theta0: [340412.66785089] Theta1: [109447.79936752]\n",
      "Cost: [[6.55915481e+10]\n",
      " [6.54615565e+10]\n",
      " [6.53318377e+10]\n",
      " ...\n",
      " [2.04328004e+09]\n",
      " [2.04328004e+09]\n",
      " [2.04328004e+09]]\n"
     ]
    }
   ],
   "source": [
    "theta_vec,J_history_vec,etime_gd_vec, theta_history_vec = gradientDescentVectorized(X_scaled,y,alpha=0.001, n_iters=200000)\n",
    "print(\"Time Vectorized: {}ms  / Time Loop: {}ms\".format(etime_gd_vec,etime_gd_loop))\n",
    "print(\"Theta0: {} Theta1: {}\".format(theta_vec[0],theta_vec[1]))\n",
    "print(\"Cost: {}\".format(J_history_vec))"
   ],
   "metadata": {
    "collapsed": false,
    "pycharm": {
     "name": "#%%\n"
    }
   }
  }
 ],
 "metadata": {
  "kernelspec": {
   "display_name": "Python 3",
   "language": "python",
   "name": "python3"
  },
  "language_info": {
   "codemirror_mode": {
    "name": "ipython",
    "version": 2
   },
   "file_extension": ".py",
   "mimetype": "text/x-python",
   "name": "python",
   "nbconvert_exporter": "python",
   "pygments_lexer": "ipython2",
   "version": "2.7.6"
  }
 },
 "nbformat": 4,
 "nbformat_minor": 0
}